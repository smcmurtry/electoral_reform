{
 "cells": [
  {
   "cell_type": "code",
   "execution_count": 318,
   "metadata": {
    "collapsed": false
   },
   "outputs": [],
   "source": [
    "import pandas as pd\n",
    "import numpy as np\n",
    "import json"
   ]
  },
  {
   "cell_type": "code",
   "execution_count": 108,
   "metadata": {
    "collapsed": true
   },
   "outputs": [],
   "source": [
    "provs = ['BC', 'AB', 'SK', 'MB', 'ON', 'QC', 'NB', 'NS', 'PE', 'NL', 'YT', 'NT', 'NU']\n",
    "parties = ['Bloc', 'Conservative', 'Green', 'Liberal', 'NDP']"
   ]
  },
  {
   "cell_type": "code",
   "execution_count": 109,
   "metadata": {
    "collapsed": false
   },
   "outputs": [],
   "source": [
    "def get_df_sums(df, party=None, prov=None):\n",
    "    q = df.copy()\n",
    "    if party:\n",
    "        q = q[q['party'] == party]\n",
    "    if prov:\n",
    "        q = q[q['prov_abbr'] == prov]\n",
    "    return len(q)\n",
    "\n",
    "def create_summary_df(df, voting_system):\n",
    "    tot_df = pd.DataFrame(columns=parties + ['region', 'voting_system'], index=range(14))\n",
    "    pct_df = pd.DataFrame(columns=parties + ['region', 'voting_system'], index=range(14))\n",
    "\n",
    "    tot_df['region'] = provs + ['Canada']\n",
    "    pct_df['region'] = provs + ['Canada']\n",
    "\n",
    "    tot_df['voting_system'] = [voting_system]*len(tot_df)\n",
    "    pct_df['voting_system'] = [voting_system]*len(pct_df)\n",
    "    \n",
    "    for i in pct_df.index:\n",
    "        for p in parties:\n",
    "            \n",
    "            if pct_df.region[i] == 'Canada':\n",
    "                n_seats_party = get_df_sums(df, party=p)\n",
    "                tot_df.set_value(i, p, n_seats_party)\n",
    "                pct_df.set_value(i, p, n_seats_party*1./len(df))\n",
    "\n",
    "            else:\n",
    "                n_seats_party = get_df_sums(df, party=p, prov=pct_df.region[i])\n",
    "                n_seats_prov = get_df_sums(df, prov=pct_df.region[i])\n",
    "                pct_df.set_value(i, p, n_seats_party*1./n_seats_prov)\n",
    "                tot_df.set_value(i, p, n_seats_party)\n",
    "\n",
    "    return tot_df, pct_df"
   ]
  },
  {
   "cell_type": "markdown",
   "metadata": {},
   "source": [
    "## Popular Vote results"
   ]
  },
  {
   "cell_type": "code",
   "execution_count": 110,
   "metadata": {
    "collapsed": false,
    "scrolled": true
   },
   "outputs": [],
   "source": [
    "pop = pd.DataFrame.from_csv('../data/popular_vote/table_tableau09.csv', index_col=None)"
   ]
  },
  {
   "cell_type": "code",
   "execution_count": 111,
   "metadata": {
    "collapsed": false
   },
   "outputs": [],
   "source": [
    "pop.columns = ['party', 'NL', 'PE', 'NS', 'NB', 'QC', 'ON', 'MB', 'SK', 'AB', 'BC', 'YT', 'NT', 'NU', 'Canada']"
   ]
  },
  {
   "cell_type": "code",
   "execution_count": 112,
   "metadata": {
    "collapsed": true
   },
   "outputs": [],
   "source": [
    "party_row_dict = {'Bloc': 2, 'Conservative': 7, 'Green': 10, 'Liberal': 11, 'NDP': 15}"
   ]
  },
  {
   "cell_type": "code",
   "execution_count": 113,
   "metadata": {
    "collapsed": false
   },
   "outputs": [],
   "source": [
    "pop2 = pd.DataFrame(columns=parties + ['region', 'voting_system'], index=range(14))\n",
    "pop2['region'] = provs + ['Canada']\n",
    "pop2['voting_system'] = ['POP']*len(pop2)"
   ]
  },
  {
   "cell_type": "code",
   "execution_count": 114,
   "metadata": {
    "collapsed": true
   },
   "outputs": [],
   "source": [
    "for i in pop2.index:\n",
    "    for p in parties:\n",
    "        pop2.set_value(i, p, pop[pop2.region[i]][party_row_dict[p]])"
   ]
  },
  {
   "cell_type": "code",
   "execution_count": 115,
   "metadata": {
    "collapsed": false
   },
   "outputs": [],
   "source": [
    "pop2['Other'] = 100. - (pop2['Bloc'] + pop2['Conservative'] + pop2['Green'] + pop2['Liberal'] + pop2['NDP'])"
   ]
  },
  {
   "cell_type": "code",
   "execution_count": 116,
   "metadata": {
    "collapsed": false
   },
   "outputs": [
    {
     "name": "stdout",
     "output_type": "stream",
     "text": [
      "-0.1\n"
     ]
    },
    {
     "data": {
      "text/html": [
       "<div>\n",
       "<table border=\"1\" class=\"dataframe\">\n",
       "  <thead>\n",
       "    <tr style=\"text-align: right;\">\n",
       "      <th></th>\n",
       "      <th>Bloc</th>\n",
       "      <th>Conservative</th>\n",
       "      <th>Green</th>\n",
       "      <th>Liberal</th>\n",
       "      <th>NDP</th>\n",
       "      <th>region</th>\n",
       "      <th>voting_system</th>\n",
       "      <th>Other</th>\n",
       "    </tr>\n",
       "  </thead>\n",
       "  <tbody>\n",
       "    <tr>\n",
       "      <th>0</th>\n",
       "      <td>0</td>\n",
       "      <td>29.9</td>\n",
       "      <td>8.2</td>\n",
       "      <td>35.1</td>\n",
       "      <td>26</td>\n",
       "      <td>BC</td>\n",
       "      <td>POP</td>\n",
       "      <td>0.8</td>\n",
       "    </tr>\n",
       "    <tr>\n",
       "      <th>1</th>\n",
       "      <td>0</td>\n",
       "      <td>59.6</td>\n",
       "      <td>2.5</td>\n",
       "      <td>24.5</td>\n",
       "      <td>11.6</td>\n",
       "      <td>AB</td>\n",
       "      <td>POP</td>\n",
       "      <td>1.8</td>\n",
       "    </tr>\n",
       "    <tr>\n",
       "      <th>2</th>\n",
       "      <td>0</td>\n",
       "      <td>48.5</td>\n",
       "      <td>2.1</td>\n",
       "      <td>23.9</td>\n",
       "      <td>25.1</td>\n",
       "      <td>SK</td>\n",
       "      <td>POP</td>\n",
       "      <td>0.4</td>\n",
       "    </tr>\n",
       "    <tr>\n",
       "      <th>3</th>\n",
       "      <td>0</td>\n",
       "      <td>37.4</td>\n",
       "      <td>3.2</td>\n",
       "      <td>44.7</td>\n",
       "      <td>13.6</td>\n",
       "      <td>MB</td>\n",
       "      <td>POP</td>\n",
       "      <td>1.1</td>\n",
       "    </tr>\n",
       "    <tr>\n",
       "      <th>4</th>\n",
       "      <td>0</td>\n",
       "      <td>35.1</td>\n",
       "      <td>2.8</td>\n",
       "      <td>44.8</td>\n",
       "      <td>16.6</td>\n",
       "      <td>ON</td>\n",
       "      <td>POP</td>\n",
       "      <td>0.7</td>\n",
       "    </tr>\n",
       "    <tr>\n",
       "      <th>5</th>\n",
       "      <td>19.4</td>\n",
       "      <td>16.7</td>\n",
       "      <td>2.2</td>\n",
       "      <td>35.7</td>\n",
       "      <td>25.4</td>\n",
       "      <td>QC</td>\n",
       "      <td>POP</td>\n",
       "      <td>0.6</td>\n",
       "    </tr>\n",
       "    <tr>\n",
       "      <th>6</th>\n",
       "      <td>0</td>\n",
       "      <td>25.4</td>\n",
       "      <td>4.7</td>\n",
       "      <td>51.6</td>\n",
       "      <td>18.4</td>\n",
       "      <td>NB</td>\n",
       "      <td>POP</td>\n",
       "      <td>0</td>\n",
       "    </tr>\n",
       "    <tr>\n",
       "      <th>7</th>\n",
       "      <td>0</td>\n",
       "      <td>17.9</td>\n",
       "      <td>3.4</td>\n",
       "      <td>62</td>\n",
       "      <td>16.3</td>\n",
       "      <td>NS</td>\n",
       "      <td>POP</td>\n",
       "      <td>0.4</td>\n",
       "    </tr>\n",
       "    <tr>\n",
       "      <th>8</th>\n",
       "      <td>0</td>\n",
       "      <td>19.3</td>\n",
       "      <td>6</td>\n",
       "      <td>58.3</td>\n",
       "      <td>16</td>\n",
       "      <td>PE</td>\n",
       "      <td>POP</td>\n",
       "      <td>0.4</td>\n",
       "    </tr>\n",
       "    <tr>\n",
       "      <th>9</th>\n",
       "      <td>0</td>\n",
       "      <td>10.3</td>\n",
       "      <td>1.1</td>\n",
       "      <td>64.5</td>\n",
       "      <td>21.1</td>\n",
       "      <td>NL</td>\n",
       "      <td>POP</td>\n",
       "      <td>3</td>\n",
       "    </tr>\n",
       "    <tr>\n",
       "      <th>10</th>\n",
       "      <td>0</td>\n",
       "      <td>24.3</td>\n",
       "      <td>2.6</td>\n",
       "      <td>53.7</td>\n",
       "      <td>19.4</td>\n",
       "      <td>YT</td>\n",
       "      <td>POP</td>\n",
       "      <td>0</td>\n",
       "    </tr>\n",
       "    <tr>\n",
       "      <th>11</th>\n",
       "      <td>0</td>\n",
       "      <td>18.3</td>\n",
       "      <td>2.8</td>\n",
       "      <td>48.3</td>\n",
       "      <td>30.5</td>\n",
       "      <td>NT</td>\n",
       "      <td>POP</td>\n",
       "      <td>0.1</td>\n",
       "    </tr>\n",
       "    <tr>\n",
       "      <th>12</th>\n",
       "      <td>0</td>\n",
       "      <td>24.8</td>\n",
       "      <td>1.5</td>\n",
       "      <td>47.1</td>\n",
       "      <td>26.6</td>\n",
       "      <td>NU</td>\n",
       "      <td>POP</td>\n",
       "      <td>0</td>\n",
       "    </tr>\n",
       "    <tr>\n",
       "      <th>13</th>\n",
       "      <td>4.7</td>\n",
       "      <td>31.9</td>\n",
       "      <td>3.4</td>\n",
       "      <td>39.5</td>\n",
       "      <td>19.7</td>\n",
       "      <td>Canada</td>\n",
       "      <td>POP</td>\n",
       "      <td>0.8</td>\n",
       "    </tr>\n",
       "  </tbody>\n",
       "</table>\n",
       "</div>"
      ],
      "text/plain": [
       "    Bloc Conservative Green Liberal   NDP  region voting_system Other\n",
       "0      0         29.9   8.2    35.1    26      BC           POP   0.8\n",
       "1      0         59.6   2.5    24.5  11.6      AB           POP   1.8\n",
       "2      0         48.5   2.1    23.9  25.1      SK           POP   0.4\n",
       "3      0         37.4   3.2    44.7  13.6      MB           POP   1.1\n",
       "4      0         35.1   2.8    44.8  16.6      ON           POP   0.7\n",
       "5   19.4         16.7   2.2    35.7  25.4      QC           POP   0.6\n",
       "6      0         25.4   4.7    51.6  18.4      NB           POP     0\n",
       "7      0         17.9   3.4      62  16.3      NS           POP   0.4\n",
       "8      0         19.3     6    58.3    16      PE           POP   0.4\n",
       "9      0         10.3   1.1    64.5  21.1      NL           POP     3\n",
       "10     0         24.3   2.6    53.7  19.4      YT           POP     0\n",
       "11     0         18.3   2.8    48.3  30.5      NT           POP   0.1\n",
       "12     0         24.8   1.5    47.1  26.6      NU           POP     0\n",
       "13   4.7         31.9   3.4    39.5  19.7  Canada           POP   0.8"
      ]
     },
     "execution_count": 116,
     "metadata": {},
     "output_type": "execute_result"
    }
   ],
   "source": [
    "print pop2['Other'][6]\n",
    "pop2.set_value(6, 'Other', 0)"
   ]
  },
  {
   "cell_type": "markdown",
   "metadata": {},
   "source": [
    "## FPTP results"
   ]
  },
  {
   "cell_type": "code",
   "execution_count": 117,
   "metadata": {
    "collapsed": false
   },
   "outputs": [],
   "source": [
    "fptp = pd.DataFrame.from_csv('../data/fptp/summary_results_table11.csv', index_col=None)"
   ]
  },
  {
   "cell_type": "code",
   "execution_count": 118,
   "metadata": {
    "collapsed": false
   },
   "outputs": [],
   "source": [
    "fptp['candidate_and_party'] = fptp['Elected Candidate/Candidat \\xc3\\xa9lu']\n",
    "fptp['riding_name'] = fptp['Electoral District Name/Nom de circonscription']\n",
    "fptp['riding_number'] = fptp['Electoral District Number/Num\\xc3\\xa9ro de circonscription']\n",
    "fptp['prov'] = fptp[fptp.columns[0]]"
   ]
  },
  {
   "cell_type": "code",
   "execution_count": 119,
   "metadata": {
    "collapsed": false
   },
   "outputs": [],
   "source": [
    "fptp = fptp[['prov', 'candidate_and_party', 'riding_name', 'riding_number']].copy()"
   ]
  },
  {
   "cell_type": "code",
   "execution_count": 120,
   "metadata": {
    "collapsed": true
   },
   "outputs": [],
   "source": [
    "party_dict = {'Liberal/Lib\\xc3\\xa9ral': 'Liberal',\n",
    "           'Conservative/Conservateur': 'Conservative',\n",
    "           'NDP-New Democratic Party/NPD-Nouveau Parti d\\xc3\\xa9mocratique': 'NDP',\n",
    "           'Bloc Qu\\xc3\\xa9b\\xc3\\xa9cois/Bloc Qu\\xc3\\xa9b\\xc3\\xa9cois': 'Bloc',\n",
    "           'Green Party/Parti Vert': 'Green'}"
   ]
  },
  {
   "cell_type": "code",
   "execution_count": 121,
   "metadata": {
    "collapsed": false
   },
   "outputs": [],
   "source": [
    "fptp['party'] = pd.Series(index=fptp.index, dtype=str)"
   ]
  },
  {
   "cell_type": "code",
   "execution_count": 122,
   "metadata": {
    "collapsed": false
   },
   "outputs": [],
   "source": [
    "for i in fptp.index:\n",
    "    for k in party_dict:\n",
    "        if k in fptp['candidate_and_party'][i]:\n",
    "            fptp.set_value(i, 'party', party_dict[k])\n",
    "            "
   ]
  },
  {
   "cell_type": "code",
   "execution_count": 123,
   "metadata": {
    "collapsed": false
   },
   "outputs": [
    {
     "data": {
      "text/html": [
       "<div>\n",
       "<table border=\"1\" class=\"dataframe\">\n",
       "  <thead>\n",
       "    <tr style=\"text-align: right;\">\n",
       "      <th></th>\n",
       "      <th>prov</th>\n",
       "      <th>candidate_and_party</th>\n",
       "      <th>riding_name</th>\n",
       "      <th>riding_number</th>\n",
       "      <th>party</th>\n",
       "    </tr>\n",
       "  </thead>\n",
       "  <tbody>\n",
       "  </tbody>\n",
       "</table>\n",
       "</div>"
      ],
      "text/plain": [
       "Empty DataFrame\n",
       "Columns: [prov, candidate_and_party, riding_name, riding_number, party]\n",
       "Index: []"
      ]
     },
     "execution_count": 123,
     "metadata": {},
     "output_type": "execute_result"
    }
   ],
   "source": [
    "fptp[fptp.party != fptp.party]"
   ]
  },
  {
   "cell_type": "code",
   "execution_count": 124,
   "metadata": {
    "collapsed": false
   },
   "outputs": [],
   "source": [
    "del fptp['candidate_and_party']"
   ]
  },
  {
   "cell_type": "code",
   "execution_count": 125,
   "metadata": {
    "collapsed": true
   },
   "outputs": [],
   "source": [
    "prov_dict = {'Newfoundland and Labrador/Terre-Neuve-et-Labrador': 'NL',\n",
    "             'Prince Edward Island/Île-du-Prince-Édouard': 'PE',\n",
    "             'Nova Scotia/Nouvelle-Écosse': 'NS',\n",
    "             'New Brunswick/Nouveau-Brunswick': 'NB',\n",
    "             'British Columbia/Colombie-Britannique': 'BC',\n",
    "             'Yukon': 'YT',\n",
    "             'Northwest Territories/Territoires du Nord-Ouest': 'NT',\n",
    "             'Nunavut': 'NU',\n",
    "             'Alberta': 'AB',\n",
    "             'Manitoba': 'MB',\n",
    "             'Ontario': 'ON',\n",
    "             'Quebec/Qu\\xc3\\xa9bec': 'QC',\n",
    "             'Saskatchewan': 'SK'\n",
    "            }"
   ]
  },
  {
   "cell_type": "code",
   "execution_count": 126,
   "metadata": {
    "collapsed": false
   },
   "outputs": [],
   "source": [
    "fptp['prov_abbr'] = fptp['prov'].map(prov_dict)"
   ]
  },
  {
   "cell_type": "code",
   "execution_count": 127,
   "metadata": {
    "collapsed": false
   },
   "outputs": [
    {
     "data": {
      "text/html": [
       "<div>\n",
       "<table border=\"1\" class=\"dataframe\">\n",
       "  <thead>\n",
       "    <tr style=\"text-align: right;\">\n",
       "      <th></th>\n",
       "      <th>prov</th>\n",
       "      <th>riding_name</th>\n",
       "      <th>riding_number</th>\n",
       "      <th>party</th>\n",
       "      <th>prov_abbr</th>\n",
       "    </tr>\n",
       "  </thead>\n",
       "  <tbody>\n",
       "  </tbody>\n",
       "</table>\n",
       "</div>"
      ],
      "text/plain": [
       "Empty DataFrame\n",
       "Columns: [prov, riding_name, riding_number, party, prov_abbr]\n",
       "Index: []"
      ]
     },
     "execution_count": 127,
     "metadata": {},
     "output_type": "execute_result"
    }
   ],
   "source": [
    "fptp[fptp.prov_abbr != fptp.prov_abbr]"
   ]
  },
  {
   "cell_type": "code",
   "execution_count": 128,
   "metadata": {
    "collapsed": true
   },
   "outputs": [],
   "source": [
    "del fptp['prov']"
   ]
  },
  {
   "cell_type": "code",
   "execution_count": 129,
   "metadata": {
    "collapsed": false
   },
   "outputs": [],
   "source": [
    "fptp['region_number'] = fptp['prov_abbr'].map(lambda x: provs.index(x))"
   ]
  },
  {
   "cell_type": "code",
   "execution_count": 130,
   "metadata": {
    "collapsed": true
   },
   "outputs": [],
   "source": [
    "fptp['seat_type'] = ['local']*len(fptp)"
   ]
  },
  {
   "cell_type": "code",
   "execution_count": 131,
   "metadata": {
    "collapsed": false
   },
   "outputs": [],
   "source": [
    "fptp.to_csv('../web/data/fptp_clean.csv', index=None)"
   ]
  },
  {
   "cell_type": "code",
   "execution_count": 132,
   "metadata": {
    "collapsed": false
   },
   "outputs": [],
   "source": [
    "tot_df_fptp, pct_df_fptp = create_summary_df(fptp, 'FPTP')\n",
    "#  fptp2 = create_summary_df(fptp, 'FPTP')"
   ]
  },
  {
   "cell_type": "markdown",
   "metadata": {},
   "source": [
    "## DMP Simulation Results"
   ]
  },
  {
   "cell_type": "code",
   "execution_count": 133,
   "metadata": {
    "collapsed": false
   },
   "outputs": [],
   "source": [
    "dmp = pd.DataFrame.from_csv('../data/dmp/dmp_2_5_0_reformatted.csv', index_col=None)"
   ]
  },
  {
   "cell_type": "code",
   "execution_count": 134,
   "metadata": {
    "collapsed": true
   },
   "outputs": [],
   "source": [
    "prov_dict_2 = {'Newfoundland': 'NL',\n",
    "             'Prince Edward Island': 'PE',\n",
    "             'Nova Scotia': 'NS',\n",
    "             'New Brunswick': 'NB',\n",
    "             'British Columbia': 'BC',\n",
    "             'Yukon': 'YT',\n",
    "             'Northwest Territories': 'NT',\n",
    "             'Nunavut': 'NU',\n",
    "             'Alberta': 'AB',\n",
    "             'Manitoba': 'MB',\n",
    "             'Ontario': 'ON',\n",
    "             'Quebec': 'QC',\n",
    "             'Saskatchewan': 'SK'\n",
    "            }"
   ]
  },
  {
   "cell_type": "code",
   "execution_count": 135,
   "metadata": {
    "collapsed": false
   },
   "outputs": [],
   "source": [
    "dmp['prov_abbr'] = dmp['prov'].map(prov_dict_2)\n",
    "del dmp['prov']"
   ]
  },
  {
   "cell_type": "code",
   "execution_count": 136,
   "metadata": {
    "collapsed": true
   },
   "outputs": [],
   "source": [
    "dmp['riding_number'] = range(len(dmp))"
   ]
  },
  {
   "cell_type": "code",
   "execution_count": 137,
   "metadata": {
    "collapsed": false
   },
   "outputs": [],
   "source": [
    "# I need 1 row per seat\n",
    "dmp_1 = dmp[['riding_name', 'riding_number', 'party_1', 'prov_abbr']].copy()\n",
    "dmp_2 = dmp[['riding_name', 'riding_number', 'party_2', 'prov_abbr']].copy()\n",
    "dmp_1['party'] = dmp_1['party_1']\n",
    "dmp_2['party'] = dmp_2['party_2']\n",
    "del dmp_1['party_1']\n",
    "del dmp_2['party_2']"
   ]
  },
  {
   "cell_type": "code",
   "execution_count": 138,
   "metadata": {
    "collapsed": false
   },
   "outputs": [],
   "source": [
    "dmp_2.index = range(len(dmp_1), len(dmp_1) + len(dmp_2))"
   ]
  },
  {
   "cell_type": "code",
   "execution_count": 139,
   "metadata": {
    "collapsed": false
   },
   "outputs": [],
   "source": [
    "dmp_3 = pd.concat([dmp_1, dmp_2])"
   ]
  },
  {
   "cell_type": "code",
   "execution_count": 140,
   "metadata": {
    "collapsed": false
   },
   "outputs": [],
   "source": [
    "for i in dmp_3.index:\n",
    "    if dmp_3['party'][i] == 'Bloc Quebecois':\n",
    "        dmp_3.set_value(i, 'party', 'Bloc')"
   ]
  },
  {
   "cell_type": "code",
   "execution_count": 141,
   "metadata": {
    "collapsed": false
   },
   "outputs": [],
   "source": [
    "dmp_3['region_number'] = dmp_3['prov_abbr'].map(lambda x: provs.index(x))"
   ]
  },
  {
   "cell_type": "code",
   "execution_count": 142,
   "metadata": {
    "collapsed": true
   },
   "outputs": [],
   "source": [
    "dmp_3['seat_type'] = ['local']*len(dmp_3)"
   ]
  },
  {
   "cell_type": "code",
   "execution_count": 143,
   "metadata": {
    "collapsed": false
   },
   "outputs": [],
   "source": [
    "dmp_3.to_csv('../web/data/dmp_clean.csv', index=None)"
   ]
  },
  {
   "cell_type": "code",
   "execution_count": 144,
   "metadata": {
    "collapsed": true
   },
   "outputs": [],
   "source": [
    "tot_df_dmp, pct_df_dmp = create_summary_df(dmp_3, 'DMP')"
   ]
  },
  {
   "cell_type": "markdown",
   "metadata": {
    "collapsed": true
   },
   "source": [
    "## MMP Simulation Results"
   ]
  },
  {
   "cell_type": "markdown",
   "metadata": {},
   "source": [
    "Wilf Day's blog: http://wilfday.blogspot.ca/\n",
    "\n",
    "My simulation using this model lets voters elect 209 local MP in the ten provinces, and 126 regional MPs in 42 regions.\n",
    "\n",
    "In Atlantic Canada each province is one region. The other regions are:\n",
    "\n",
    "Ontario:\n",
    "Ottawa—Cornwall 10, East Central Ontario (Kingston—Peterborough) 9, Durham—Rouge Park 6, York Region 10, Scarborough—Don Valley 8, Toronto Central 8, North York—Etobicoke 8, Brampton—Mississauga North 7, Mississauga—Halton 8, Hamilton—Niagara—Brant 11, Central Ontario (Barrie—Owen Sound) 6, Waterloo-Wellington-Dufferin 8, London-Oxford-Perth-Huron 7, Windsor—Sarnia 6, Northern Ontario 9.\n",
    "\n",
    "Quebec:\n",
    "Montreal-est 8, Montreal-ouest 6, Montreal-nord—Laval 8, Laurentides—Lanaudière 9, Outaouais—Abitibi-Témiscamingue—Nord 6, Longueuil—Suroît 10, Montérégie-est—Estrie 6, Mauricie—Centre-du-Québec 6, Quebec City—Saguenay-Lac-Saint-Jean—Côte-Nord 11, Chaudière-Appalaches—Bas-Saint-Laurent—Gaspésie 8.\n",
    "\n",
    "Manitoba:\n",
    "Winnipeg 8, Manitoba North and South 6\n",
    "\n",
    "Saskatchewan:\n",
    "Regina—South Saskatchewan 6, Saskatoon—North Saskatchewan 8\n",
    "\n",
    "Alberta:\n",
    "Calgary 10, South & Central Alberta 8, Edmonton 10, Northern Alberta 6\n",
    "\n",
    "British Columbia:\n",
    "Vancouver-Richmond-Delta 9, Burnaby—North Shore—Coquitlam—Maple Ridge 8, Surrey—Fraser Valley 9, BC Interior and North 9, Vancouver Island 7\n",
    "\n",
    "Voters for all three parties would elect either local or regional MPs in each of the 42 regions across Canada, except no Conservative in 8-MP Montreal-est and in 6-MP Outaouais—Abitibi-Témiscamingue—Nord.  Bloc voters would elect MPs in each of Quebec’s regions except 6-MP Montreal West. \n",
    "\n",
    "The results for 338 MPs are: 145 Liberals, 106 Conservatives, 70 NDP, 14 Bloc, and 3 Greens.\n",
    "\n",
    "\n",
    "\n",
    "Lib, Con, NDP, Green, Bloc\n",
    "B.C.                15, 13, 11, 3\n",
    "Alberta           8, 21, 4, 1       \n",
    "Sask.              3, 7, 4\n",
    "Manitoba       6, 5, 2, 1\n",
    "Ontario           55, 43, 20, 3\n",
    "Quebec          28, 13, 20, 2, 15\n",
    "N.B.                5, 3, 2\n",
    "P.E.I.               2, 1, 1\n",
    "N.S.                7, 2, 2\n",
    "Nfld & Lab.    5, 1, 1\n",
    "Territories      3, 0, 0\n",
    "Total               137, 109, 67, 10, 15"
   ]
  },
  {
   "cell_type": "code",
   "execution_count": 146,
   "metadata": {
    "collapsed": false
   },
   "outputs": [],
   "source": [
    "# mmp = pd.DataFrame.from_csv('../data/mmp/mmp_14_reformatted.csv', index_col=None)\n",
    "mmp = pd.DataFrame.from_csv('../data/mmp/mmp_12_reformatted.csv', index_col=None)"
   ]
  },
  {
   "cell_type": "code",
   "execution_count": 147,
   "metadata": {
    "collapsed": false
   },
   "outputs": [],
   "source": [
    "mmp = mmp.replace(to_replace=' ', value=np.nan)\n",
    "mmp['region_number'] = range(len(mmp))\n",
    "mmp_local = mmp[list(mmp.columns[4:9]) + ['region_number', 'prov_abbr']].copy()\n",
    "mmp_regional = mmp[list(mmp.columns[10:]) + ['prov_abbr']].copy()\n",
    "mmp_regional.columns = parties + ['region_number', 'prov_abbr']\n",
    "mmp_local.columns = parties + ['region_number', 'prov_abbr']\n",
    "mmp_local['seat_type'] = ['local']*len(mmp_local)\n",
    "mmp_regional['seat_type'] = ['regional']*len(mmp_regional)"
   ]
  },
  {
   "cell_type": "code",
   "execution_count": 153,
   "metadata": {
    "collapsed": false
   },
   "outputs": [],
   "source": [
    "mmp_regional.index = range(len(mmp_local), len(mmp_local)+len(mmp_regional))\n",
    "mmp2 = pd.concat([mmp_local, mmp_regional])"
   ]
  },
  {
   "cell_type": "code",
   "execution_count": 320,
   "metadata": {
    "collapsed": false
   },
   "outputs": [],
   "source": [
    "mmp3 = pd.DataFrame(columns=['region_number', 'prov_abbr', 'seat_type', 'party', 'riding_number'], index=range(338))\n",
    "i2 = 0\n",
    "n = 0\n",
    "for i1 in mmp2.index:\n",
    "    for party in parties:\n",
    "        if mmp2[party][i1] > 0:\n",
    "            for _ in range(int(mmp2[party][i1])):\n",
    "                for col in ['region_number', 'prov_abbr', 'seat_type']:\n",
    "                    mmp3.set_value(i2, col, mmp2[col][i1])\n",
    "                # give regional seats a riding number so they will be spaced out in the layout\n",
    "                # the same as the riding mps. Then remove the riding border by selecting for seat_type == regional\n",
    "                mmp3.set_value(i2, 'riding_number', n)\n",
    "                n += 1\n",
    "\n",
    "                mmp3.set_value(i2, 'party', party)\n",
    "                i2 += 1"
   ]
  },
  {
   "cell_type": "code",
   "execution_count": 321,
   "metadata": {
    "collapsed": true
   },
   "outputs": [],
   "source": [
    "mmp3.to_csv('../web/data/mmp_clean.csv', index=None)"
   ]
  },
  {
   "cell_type": "code",
   "execution_count": 157,
   "metadata": {
    "collapsed": true
   },
   "outputs": [],
   "source": [
    "tot_df_mmp, pct_df_mmp = create_summary_df(mmp3, 'MMP')"
   ]
  },
  {
   "cell_type": "code",
   "execution_count": null,
   "metadata": {
    "collapsed": true
   },
   "outputs": [],
   "source": []
  },
  {
   "cell_type": "code",
   "execution_count": 319,
   "metadata": {
    "collapsed": false
   },
   "outputs": [
    {
     "data": {
      "text/html": [
       "<div>\n",
       "<table border=\"1\" class=\"dataframe\">\n",
       "  <thead>\n",
       "    <tr style=\"text-align: right;\">\n",
       "      <th></th>\n",
       "      <th>region_number</th>\n",
       "      <th>prov_abbr</th>\n",
       "      <th>seat_type</th>\n",
       "      <th>party</th>\n",
       "      <th>riding_number</th>\n",
       "    </tr>\n",
       "  </thead>\n",
       "  <tbody>\n",
       "    <tr>\n",
       "      <th>0</th>\n",
       "      <td>0</td>\n",
       "      <td>BC</td>\n",
       "      <td>local</td>\n",
       "      <td>Green</td>\n",
       "      <td>0</td>\n",
       "    </tr>\n",
       "    <tr>\n",
       "      <th>1</th>\n",
       "      <td>0</td>\n",
       "      <td>BC</td>\n",
       "      <td>local</td>\n",
       "      <td>NDP</td>\n",
       "      <td>1</td>\n",
       "    </tr>\n",
       "    <tr>\n",
       "      <th>2</th>\n",
       "      <td>0</td>\n",
       "      <td>BC</td>\n",
       "      <td>local</td>\n",
       "      <td>NDP</td>\n",
       "      <td>2</td>\n",
       "    </tr>\n",
       "    <tr>\n",
       "      <th>3</th>\n",
       "      <td>0</td>\n",
       "      <td>BC</td>\n",
       "      <td>local</td>\n",
       "      <td>NDP</td>\n",
       "      <td>3</td>\n",
       "    </tr>\n",
       "    <tr>\n",
       "      <th>4</th>\n",
       "      <td>0</td>\n",
       "      <td>BC</td>\n",
       "      <td>local</td>\n",
       "      <td>NDP</td>\n",
       "      <td>4</td>\n",
       "    </tr>\n",
       "  </tbody>\n",
       "</table>\n",
       "</div>"
      ],
      "text/plain": [
       "  region_number prov_abbr seat_type  party riding_number\n",
       "0             0        BC     local  Green             0\n",
       "1             0        BC     local    NDP             1\n",
       "2             0        BC     local    NDP             2\n",
       "3             0        BC     local    NDP             3\n",
       "4             0        BC     local    NDP             4"
      ]
     },
     "execution_count": 319,
     "metadata": {},
     "output_type": "execute_result"
    }
   ],
   "source": [
    "mmp3.head()"
   ]
  },
  {
   "cell_type": "code",
   "execution_count": 186,
   "metadata": {
    "collapsed": false
   },
   "outputs": [
    {
     "data": {
      "text/plain": [
       "9.742857142857142"
      ]
     },
     "execution_count": 186,
     "metadata": {},
     "output_type": "execute_result"
    }
   ],
   "source": [
    "(mmp.n_region + mmp.n_local).mean()"
   ]
  },
  {
   "cell_type": "markdown",
   "metadata": {
    "collapsed": true
   },
   "source": [
    "## Instant Runoff Voting (IRV/AV)"
   ]
  },
  {
   "cell_type": "code",
   "execution_count": 158,
   "metadata": {
    "collapsed": true
   },
   "outputs": [],
   "source": [
    "irv = pd.DataFrame.from_csv('../data/irv/irv_prov_grenier.csv', index_col=None)"
   ]
  },
  {
   "cell_type": "code",
   "execution_count": 159,
   "metadata": {
    "collapsed": false
   },
   "outputs": [
    {
     "data": {
      "text/html": [
       "<div>\n",
       "<table border=\"1\" class=\"dataframe\">\n",
       "  <thead>\n",
       "    <tr style=\"text-align: right;\">\n",
       "      <th></th>\n",
       "      <th>prov_abbr</th>\n",
       "      <th>Liberal</th>\n",
       "      <th>Conservative</th>\n",
       "      <th>NDP</th>\n",
       "      <th>Green</th>\n",
       "      <th>Bloc</th>\n",
       "    </tr>\n",
       "  </thead>\n",
       "  <tbody>\n",
       "    <tr>\n",
       "      <th>0</th>\n",
       "      <td>BC</td>\n",
       "      <td>26</td>\n",
       "      <td>2</td>\n",
       "      <td>13</td>\n",
       "      <td>1</td>\n",
       "      <td>0</td>\n",
       "    </tr>\n",
       "    <tr>\n",
       "      <th>1</th>\n",
       "      <td>AB</td>\n",
       "      <td>6</td>\n",
       "      <td>26</td>\n",
       "      <td>2</td>\n",
       "      <td>0</td>\n",
       "      <td>0</td>\n",
       "    </tr>\n",
       "    <tr>\n",
       "      <th>2</th>\n",
       "      <td>SK</td>\n",
       "      <td>2</td>\n",
       "      <td>8</td>\n",
       "      <td>4</td>\n",
       "      <td>0</td>\n",
       "      <td>0</td>\n",
       "    </tr>\n",
       "    <tr>\n",
       "      <th>3</th>\n",
       "      <td>MB</td>\n",
       "      <td>8</td>\n",
       "      <td>4</td>\n",
       "      <td>2</td>\n",
       "      <td>0</td>\n",
       "      <td>0</td>\n",
       "    </tr>\n",
       "    <tr>\n",
       "      <th>4</th>\n",
       "      <td>ON</td>\n",
       "      <td>96</td>\n",
       "      <td>16</td>\n",
       "      <td>9</td>\n",
       "      <td>0</td>\n",
       "      <td>0</td>\n",
       "    </tr>\n",
       "    <tr>\n",
       "      <th>5</th>\n",
       "      <td>QC</td>\n",
       "      <td>51</td>\n",
       "      <td>5</td>\n",
       "      <td>20</td>\n",
       "      <td>0</td>\n",
       "      <td>2</td>\n",
       "    </tr>\n",
       "    <tr>\n",
       "      <th>6</th>\n",
       "      <td>NB</td>\n",
       "      <td>10</td>\n",
       "      <td>0</td>\n",
       "      <td>0</td>\n",
       "      <td>0</td>\n",
       "      <td>0</td>\n",
       "    </tr>\n",
       "    <tr>\n",
       "      <th>7</th>\n",
       "      <td>NS</td>\n",
       "      <td>11</td>\n",
       "      <td>0</td>\n",
       "      <td>0</td>\n",
       "      <td>0</td>\n",
       "      <td>0</td>\n",
       "    </tr>\n",
       "    <tr>\n",
       "      <th>8</th>\n",
       "      <td>PE</td>\n",
       "      <td>4</td>\n",
       "      <td>0</td>\n",
       "      <td>0</td>\n",
       "      <td>0</td>\n",
       "      <td>0</td>\n",
       "    </tr>\n",
       "    <tr>\n",
       "      <th>9</th>\n",
       "      <td>NL</td>\n",
       "      <td>7</td>\n",
       "      <td>0</td>\n",
       "      <td>0</td>\n",
       "      <td>0</td>\n",
       "      <td>0</td>\n",
       "    </tr>\n",
       "    <tr>\n",
       "      <th>10</th>\n",
       "      <td>NT</td>\n",
       "      <td>1</td>\n",
       "      <td>0</td>\n",
       "      <td>0</td>\n",
       "      <td>0</td>\n",
       "      <td>0</td>\n",
       "    </tr>\n",
       "    <tr>\n",
       "      <th>11</th>\n",
       "      <td>NU</td>\n",
       "      <td>1</td>\n",
       "      <td>0</td>\n",
       "      <td>0</td>\n",
       "      <td>0</td>\n",
       "      <td>0</td>\n",
       "    </tr>\n",
       "    <tr>\n",
       "      <th>12</th>\n",
       "      <td>YT</td>\n",
       "      <td>1</td>\n",
       "      <td>0</td>\n",
       "      <td>0</td>\n",
       "      <td>0</td>\n",
       "      <td>0</td>\n",
       "    </tr>\n",
       "  </tbody>\n",
       "</table>\n",
       "</div>"
      ],
      "text/plain": [
       "   prov_abbr  Liberal  Conservative  NDP  Green  Bloc\n",
       "0         BC       26             2   13      1     0\n",
       "1         AB        6            26    2      0     0\n",
       "2         SK        2             8    4      0     0\n",
       "3         MB        8             4    2      0     0\n",
       "4         ON       96            16    9      0     0\n",
       "5         QC       51             5   20      0     2\n",
       "6         NB       10             0    0      0     0\n",
       "7         NS       11             0    0      0     0\n",
       "8         PE        4             0    0      0     0\n",
       "9         NL        7             0    0      0     0\n",
       "10        NT        1             0    0      0     0\n",
       "11        NU        1             0    0      0     0\n",
       "12        YT        1             0    0      0     0"
      ]
     },
     "execution_count": 159,
     "metadata": {},
     "output_type": "execute_result"
    }
   ],
   "source": [
    "irv"
   ]
  },
  {
   "cell_type": "code",
   "execution_count": 160,
   "metadata": {
    "collapsed": false
   },
   "outputs": [],
   "source": [
    "parties = ['Bloc', 'Conservative', 'Green', 'Liberal', 'NDP']\n",
    "irv2 = pd.DataFrame(columns=['prov_abbr', 'party'], index=range(338))\n",
    "i2 = 0\n",
    "for i1 in irv.index:\n",
    "    for party in parties:\n",
    "        if irv[party][i1] > 0:\n",
    "            for _ in range(int(irv[party][i1])):\n",
    "                irv2.set_value(i2, 'prov_abbr', irv['prov_abbr'][i1])\n",
    "                irv2.set_value(i2, 'party', party)\n",
    "                i2 += 1"
   ]
  },
  {
   "cell_type": "code",
   "execution_count": 161,
   "metadata": {
    "collapsed": false
   },
   "outputs": [],
   "source": [
    "irv2['riding_number'] = irv2.index"
   ]
  },
  {
   "cell_type": "code",
   "execution_count": 162,
   "metadata": {
    "collapsed": true
   },
   "outputs": [],
   "source": [
    "irv2['region_number'] = irv2['prov_abbr'].map(lambda x: provs.index(x))"
   ]
  },
  {
   "cell_type": "code",
   "execution_count": 163,
   "metadata": {
    "collapsed": true
   },
   "outputs": [],
   "source": [
    "irv2['seat_type'] = ['local']*len(irv2)"
   ]
  },
  {
   "cell_type": "code",
   "execution_count": 164,
   "metadata": {
    "collapsed": false
   },
   "outputs": [],
   "source": [
    "irv2.to_csv('../web/data/irv_clean.csv', index=None)"
   ]
  },
  {
   "cell_type": "code",
   "execution_count": 165,
   "metadata": {
    "collapsed": false
   },
   "outputs": [
    {
     "data": {
      "text/html": [
       "<div>\n",
       "<table border=\"1\" class=\"dataframe\">\n",
       "  <thead>\n",
       "    <tr style=\"text-align: right;\">\n",
       "      <th></th>\n",
       "      <th>prov_abbr</th>\n",
       "      <th>Liberal</th>\n",
       "      <th>Conservative</th>\n",
       "      <th>NDP</th>\n",
       "      <th>Green</th>\n",
       "      <th>Bloc</th>\n",
       "    </tr>\n",
       "  </thead>\n",
       "  <tbody>\n",
       "    <tr>\n",
       "      <th>0</th>\n",
       "      <td>BC</td>\n",
       "      <td>26.0</td>\n",
       "      <td>2.0</td>\n",
       "      <td>13.0</td>\n",
       "      <td>1.0</td>\n",
       "      <td>0.0</td>\n",
       "    </tr>\n",
       "    <tr>\n",
       "      <th>1</th>\n",
       "      <td>AB</td>\n",
       "      <td>6.0</td>\n",
       "      <td>26.0</td>\n",
       "      <td>2.0</td>\n",
       "      <td>0.0</td>\n",
       "      <td>0.0</td>\n",
       "    </tr>\n",
       "    <tr>\n",
       "      <th>2</th>\n",
       "      <td>SK</td>\n",
       "      <td>2.0</td>\n",
       "      <td>8.0</td>\n",
       "      <td>4.0</td>\n",
       "      <td>0.0</td>\n",
       "      <td>0.0</td>\n",
       "    </tr>\n",
       "    <tr>\n",
       "      <th>3</th>\n",
       "      <td>MB</td>\n",
       "      <td>8.0</td>\n",
       "      <td>4.0</td>\n",
       "      <td>2.0</td>\n",
       "      <td>0.0</td>\n",
       "      <td>0.0</td>\n",
       "    </tr>\n",
       "    <tr>\n",
       "      <th>4</th>\n",
       "      <td>ON</td>\n",
       "      <td>96.0</td>\n",
       "      <td>16.0</td>\n",
       "      <td>9.0</td>\n",
       "      <td>0.0</td>\n",
       "      <td>0.0</td>\n",
       "    </tr>\n",
       "    <tr>\n",
       "      <th>5</th>\n",
       "      <td>QC</td>\n",
       "      <td>51.0</td>\n",
       "      <td>5.0</td>\n",
       "      <td>20.0</td>\n",
       "      <td>0.0</td>\n",
       "      <td>2.0</td>\n",
       "    </tr>\n",
       "    <tr>\n",
       "      <th>6</th>\n",
       "      <td>NB</td>\n",
       "      <td>10.0</td>\n",
       "      <td>0.0</td>\n",
       "      <td>0.0</td>\n",
       "      <td>0.0</td>\n",
       "      <td>0.0</td>\n",
       "    </tr>\n",
       "    <tr>\n",
       "      <th>7</th>\n",
       "      <td>NS</td>\n",
       "      <td>11.0</td>\n",
       "      <td>0.0</td>\n",
       "      <td>0.0</td>\n",
       "      <td>0.0</td>\n",
       "      <td>0.0</td>\n",
       "    </tr>\n",
       "    <tr>\n",
       "      <th>8</th>\n",
       "      <td>PE</td>\n",
       "      <td>4.0</td>\n",
       "      <td>0.0</td>\n",
       "      <td>0.0</td>\n",
       "      <td>0.0</td>\n",
       "      <td>0.0</td>\n",
       "    </tr>\n",
       "    <tr>\n",
       "      <th>9</th>\n",
       "      <td>NL</td>\n",
       "      <td>7.0</td>\n",
       "      <td>0.0</td>\n",
       "      <td>0.0</td>\n",
       "      <td>0.0</td>\n",
       "      <td>0.0</td>\n",
       "    </tr>\n",
       "    <tr>\n",
       "      <th>10</th>\n",
       "      <td>NT</td>\n",
       "      <td>1.0</td>\n",
       "      <td>0.0</td>\n",
       "      <td>0.0</td>\n",
       "      <td>0.0</td>\n",
       "      <td>0.0</td>\n",
       "    </tr>\n",
       "    <tr>\n",
       "      <th>11</th>\n",
       "      <td>NU</td>\n",
       "      <td>1.0</td>\n",
       "      <td>0.0</td>\n",
       "      <td>0.0</td>\n",
       "      <td>0.0</td>\n",
       "      <td>0.0</td>\n",
       "    </tr>\n",
       "    <tr>\n",
       "      <th>12</th>\n",
       "      <td>YT</td>\n",
       "      <td>1.0</td>\n",
       "      <td>0.0</td>\n",
       "      <td>0.0</td>\n",
       "      <td>0.0</td>\n",
       "      <td>0.0</td>\n",
       "    </tr>\n",
       "    <tr>\n",
       "      <th>13</th>\n",
       "      <td>Canada</td>\n",
       "      <td>224.0</td>\n",
       "      <td>61.0</td>\n",
       "      <td>50.0</td>\n",
       "      <td>1.0</td>\n",
       "      <td>2.0</td>\n",
       "    </tr>\n",
       "  </tbody>\n",
       "</table>\n",
       "</div>"
      ],
      "text/plain": [
       "   prov_abbr  Liberal  Conservative   NDP  Green  Bloc\n",
       "0         BC     26.0           2.0  13.0    1.0   0.0\n",
       "1         AB      6.0          26.0   2.0    0.0   0.0\n",
       "2         SK      2.0           8.0   4.0    0.0   0.0\n",
       "3         MB      8.0           4.0   2.0    0.0   0.0\n",
       "4         ON     96.0          16.0   9.0    0.0   0.0\n",
       "5         QC     51.0           5.0  20.0    0.0   2.0\n",
       "6         NB     10.0           0.0   0.0    0.0   0.0\n",
       "7         NS     11.0           0.0   0.0    0.0   0.0\n",
       "8         PE      4.0           0.0   0.0    0.0   0.0\n",
       "9         NL      7.0           0.0   0.0    0.0   0.0\n",
       "10        NT      1.0           0.0   0.0    0.0   0.0\n",
       "11        NU      1.0           0.0   0.0    0.0   0.0\n",
       "12        YT      1.0           0.0   0.0    0.0   0.0\n",
       "13    Canada    224.0          61.0  50.0    1.0   2.0"
      ]
     },
     "execution_count": 165,
     "metadata": {},
     "output_type": "execute_result"
    }
   ],
   "source": [
    "irv3 = irv.copy()\n",
    "for p in parties:\n",
    "    irv3.set_value(13, p, irv3[p].sum())\n",
    "irv3.set_value(13, 'prov_abbr', 'Canada');"
   ]
  },
  {
   "cell_type": "code",
   "execution_count": 166,
   "metadata": {
    "collapsed": false
   },
   "outputs": [],
   "source": [
    "irv3['region'] = irv3['prov_abbr']\n",
    "irv3['voting_system'] = ['IRV']*len(irv3)\n",
    "del irv3['prov_abbr']"
   ]
  },
  {
   "cell_type": "code",
   "execution_count": 167,
   "metadata": {
    "collapsed": false
   },
   "outputs": [],
   "source": [
    "irv3['total_seats'] = irv3.sum(axis=1)"
   ]
  },
  {
   "cell_type": "code",
   "execution_count": 168,
   "metadata": {
    "collapsed": false
   },
   "outputs": [
    {
     "data": {
      "text/plain": [
       "Bloc             0.0\n",
       "Conservative     2.0\n",
       "Green            1.0\n",
       "Liberal         26.0\n",
       "NDP             13.0\n",
       "dtype: float64"
      ]
     },
     "execution_count": 168,
     "metadata": {},
     "output_type": "execute_result"
    }
   ],
   "source": [
    "irv3[irv3['region'] == 'BC'][parties].sum()"
   ]
  },
  {
   "cell_type": "code",
   "execution_count": 169,
   "metadata": {
    "collapsed": false
   },
   "outputs": [],
   "source": [
    "pct_df_irv = irv3.copy()\n",
    "for p in parties:\n",
    "    pct_df_irv[p] = irv3[p]/irv3['total_seats']"
   ]
  },
  {
   "cell_type": "code",
   "execution_count": 170,
   "metadata": {
    "collapsed": false
   },
   "outputs": [],
   "source": [
    "tot_df_irv = irv3[irv3.columns[:-1]].copy()"
   ]
  },
  {
   "cell_type": "markdown",
   "metadata": {},
   "source": [
    "## STV"
   ]
  },
  {
   "cell_type": "code",
   "execution_count": 297,
   "metadata": {
    "collapsed": true
   },
   "outputs": [],
   "source": [
    "stv1 = pd.DataFrame.from_csv('../data/stv/stv_reformatted.csv', index_col=None)"
   ]
  },
  {
   "cell_type": "code",
   "execution_count": 298,
   "metadata": {
    "collapsed": false
   },
   "outputs": [],
   "source": [
    "stv1.replace(to_replace=np.nan, value=0., inplace=True)"
   ]
  },
  {
   "cell_type": "code",
   "execution_count": 299,
   "metadata": {
    "collapsed": false
   },
   "outputs": [
    {
     "data": {
      "text/html": [
       "<div>\n",
       "<table border=\"1\" class=\"dataframe\">\n",
       "  <thead>\n",
       "    <tr style=\"text-align: right;\">\n",
       "      <th></th>\n",
       "      <th>prov</th>\n",
       "      <th>Bloc</th>\n",
       "      <th>Conservative</th>\n",
       "      <th>Green</th>\n",
       "      <th>Liberal</th>\n",
       "      <th>NDP</th>\n",
       "      <th>riding_size</th>\n",
       "    </tr>\n",
       "  </thead>\n",
       "  <tbody>\n",
       "    <tr>\n",
       "      <th>0</th>\n",
       "      <td>NL</td>\n",
       "      <td>0.0</td>\n",
       "      <td>0.0</td>\n",
       "      <td>0.0</td>\n",
       "      <td>1.0</td>\n",
       "      <td>1.0</td>\n",
       "      <td>2</td>\n",
       "    </tr>\n",
       "    <tr>\n",
       "      <th>1</th>\n",
       "      <td>NL</td>\n",
       "      <td>0.0</td>\n",
       "      <td>0.0</td>\n",
       "      <td>0.0</td>\n",
       "      <td>2.0</td>\n",
       "      <td>0.0</td>\n",
       "      <td>2</td>\n",
       "    </tr>\n",
       "    <tr>\n",
       "      <th>2</th>\n",
       "      <td>NL</td>\n",
       "      <td>0.0</td>\n",
       "      <td>0.0</td>\n",
       "      <td>0.0</td>\n",
       "      <td>2.0</td>\n",
       "      <td>0.0</td>\n",
       "      <td>2</td>\n",
       "    </tr>\n",
       "    <tr>\n",
       "      <th>3</th>\n",
       "      <td>NL</td>\n",
       "      <td>0.0</td>\n",
       "      <td>0.0</td>\n",
       "      <td>0.0</td>\n",
       "      <td>1.0</td>\n",
       "      <td>0.0</td>\n",
       "      <td>1</td>\n",
       "    </tr>\n",
       "    <tr>\n",
       "      <th>4</th>\n",
       "      <td>PE</td>\n",
       "      <td>0.0</td>\n",
       "      <td>1.0</td>\n",
       "      <td>0.0</td>\n",
       "      <td>1.0</td>\n",
       "      <td>0.0</td>\n",
       "      <td>2</td>\n",
       "    </tr>\n",
       "  </tbody>\n",
       "</table>\n",
       "</div>"
      ],
      "text/plain": [
       "  prov  Bloc  Conservative  Green  Liberal  NDP  riding_size\n",
       "0   NL   0.0           0.0    0.0      1.0  1.0            2\n",
       "1   NL   0.0           0.0    0.0      2.0  0.0            2\n",
       "2   NL   0.0           0.0    0.0      2.0  0.0            2\n",
       "3   NL   0.0           0.0    0.0      1.0  0.0            1\n",
       "4   PE   0.0           1.0    0.0      1.0  0.0            2"
      ]
     },
     "execution_count": 299,
     "metadata": {},
     "output_type": "execute_result"
    }
   ],
   "source": [
    "stv1.head()"
   ]
  },
  {
   "cell_type": "code",
   "execution_count": 300,
   "metadata": {
    "collapsed": true
   },
   "outputs": [],
   "source": [
    "stv1['riding_size_calc'] = stv1['Bloc'] + stv1['Conservative'] + stv1['Green'] + stv1['Liberal'] + stv1['NDP']"
   ]
  },
  {
   "cell_type": "code",
   "execution_count": 301,
   "metadata": {
    "collapsed": false
   },
   "outputs": [
    {
     "data": {
      "text/html": [
       "<div>\n",
       "<table border=\"1\" class=\"dataframe\">\n",
       "  <thead>\n",
       "    <tr style=\"text-align: right;\">\n",
       "      <th></th>\n",
       "      <th>prov</th>\n",
       "      <th>Bloc</th>\n",
       "      <th>Conservative</th>\n",
       "      <th>Green</th>\n",
       "      <th>Liberal</th>\n",
       "      <th>NDP</th>\n",
       "      <th>riding_size</th>\n",
       "      <th>riding_size_calc</th>\n",
       "    </tr>\n",
       "  </thead>\n",
       "  <tbody>\n",
       "  </tbody>\n",
       "</table>\n",
       "</div>"
      ],
      "text/plain": [
       "Empty DataFrame\n",
       "Columns: [prov, Bloc, Conservative, Green, Liberal, NDP, riding_size, riding_size_calc]\n",
       "Index: []"
      ]
     },
     "execution_count": 301,
     "metadata": {},
     "output_type": "execute_result"
    }
   ],
   "source": [
    "stv1[stv1.riding_size != stv1.riding_size_calc]"
   ]
  },
  {
   "cell_type": "markdown",
   "metadata": {},
   "source": [
    "### creating the totals df "
   ]
  },
  {
   "cell_type": "code",
   "execution_count": 302,
   "metadata": {
    "collapsed": true
   },
   "outputs": [],
   "source": [
    "tot_df_stv = stv1[['prov'] + parties].copy()"
   ]
  },
  {
   "cell_type": "code",
   "execution_count": 303,
   "metadata": {
    "collapsed": false
   },
   "outputs": [],
   "source": [
    "tot_df_stv.rename(columns={'prov': 'region'}, inplace=True)"
   ]
  },
  {
   "cell_type": "code",
   "execution_count": 304,
   "metadata": {
    "collapsed": false
   },
   "outputs": [],
   "source": [
    "tot_df_stv = tot_df_stv.groupby(by='region').aggregate(sum)"
   ]
  },
  {
   "cell_type": "code",
   "execution_count": 305,
   "metadata": {
    "collapsed": false
   },
   "outputs": [],
   "source": [
    "tot_df_stv.reset_index(inplace=True)"
   ]
  },
  {
   "cell_type": "code",
   "execution_count": 306,
   "metadata": {
    "collapsed": false
   },
   "outputs": [],
   "source": [
    "last_index = tot_df_stv.index[-1] + 1\n",
    "tot_df_stv.set_value(last_index, 'region', 'Canada')\n",
    "for col in tot_df_stv.columns[1:]:\n",
    "    tot_df_stv.set_value(last_index, col, tot_df_stv[col].sum())"
   ]
  },
  {
   "cell_type": "code",
   "execution_count": 307,
   "metadata": {
    "collapsed": false
   },
   "outputs": [],
   "source": [
    "tot_df_stv['voting_system'] = ['STV']*len(tot_df_stv)"
   ]
  },
  {
   "cell_type": "markdown",
   "metadata": {},
   "source": [
    "### creating the the pct df"
   ]
  },
  {
   "cell_type": "code",
   "execution_count": 308,
   "metadata": {
    "collapsed": false
   },
   "outputs": [],
   "source": [
    "pct_df_stv = tot_df_stv.copy()"
   ]
  },
  {
   "cell_type": "code",
   "execution_count": 309,
   "metadata": {
    "collapsed": true
   },
   "outputs": [],
   "source": [
    "pct_df_stv['total_seats'] = pct_df_stv['Bloc'] + pct_df_stv['Conservative'] + pct_df_stv['Green'] + pct_df_stv['Liberal'] + pct_df_stv['NDP']"
   ]
  },
  {
   "cell_type": "code",
   "execution_count": 310,
   "metadata": {
    "collapsed": true
   },
   "outputs": [],
   "source": [
    "for col in parties:\n",
    "    pct_df_stv[col] = pct_df_stv[col]/pct_df_stv['total_seats']"
   ]
  },
  {
   "cell_type": "code",
   "execution_count": 311,
   "metadata": {
    "collapsed": false
   },
   "outputs": [],
   "source": [
    "del pct_df_stv['total_seats']"
   ]
  },
  {
   "cell_type": "markdown",
   "metadata": {},
   "source": [
    "### creating the clean csv file"
   ]
  },
  {
   "cell_type": "code",
   "execution_count": 312,
   "metadata": {
    "collapsed": false
   },
   "outputs": [],
   "source": [
    "stv2 = stv1.copy()\n",
    "del stv2['riding_size_calc']\n",
    "del stv2['riding_size']\n",
    "stv2['riding_number'] = stv2.index\n",
    "stv2.rename(columns={'prov': 'prov_abbr'}, inplace=True)\n",
    "stv2['region_number'] = stv2['prov_abbr'].map(lambda x: provs.index(x))\n",
    "stv2['seat_type'] = ['local']*len(stv2)"
   ]
  },
  {
   "cell_type": "code",
   "execution_count": 313,
   "metadata": {
    "collapsed": false
   },
   "outputs": [
    {
     "data": {
      "text/html": [
       "<div>\n",
       "<table border=\"1\" class=\"dataframe\">\n",
       "  <thead>\n",
       "    <tr style=\"text-align: right;\">\n",
       "      <th></th>\n",
       "      <th>prov_abbr</th>\n",
       "      <th>Bloc</th>\n",
       "      <th>Conservative</th>\n",
       "      <th>Green</th>\n",
       "      <th>Liberal</th>\n",
       "      <th>NDP</th>\n",
       "      <th>riding_number</th>\n",
       "      <th>region_number</th>\n",
       "      <th>seat_type</th>\n",
       "    </tr>\n",
       "  </thead>\n",
       "  <tbody>\n",
       "    <tr>\n",
       "      <th>0</th>\n",
       "      <td>NL</td>\n",
       "      <td>0.0</td>\n",
       "      <td>0.0</td>\n",
       "      <td>0.0</td>\n",
       "      <td>1.0</td>\n",
       "      <td>1.0</td>\n",
       "      <td>0</td>\n",
       "      <td>9</td>\n",
       "      <td>local</td>\n",
       "    </tr>\n",
       "    <tr>\n",
       "      <th>1</th>\n",
       "      <td>NL</td>\n",
       "      <td>0.0</td>\n",
       "      <td>0.0</td>\n",
       "      <td>0.0</td>\n",
       "      <td>2.0</td>\n",
       "      <td>0.0</td>\n",
       "      <td>1</td>\n",
       "      <td>9</td>\n",
       "      <td>local</td>\n",
       "    </tr>\n",
       "    <tr>\n",
       "      <th>2</th>\n",
       "      <td>NL</td>\n",
       "      <td>0.0</td>\n",
       "      <td>0.0</td>\n",
       "      <td>0.0</td>\n",
       "      <td>2.0</td>\n",
       "      <td>0.0</td>\n",
       "      <td>2</td>\n",
       "      <td>9</td>\n",
       "      <td>local</td>\n",
       "    </tr>\n",
       "    <tr>\n",
       "      <th>3</th>\n",
       "      <td>NL</td>\n",
       "      <td>0.0</td>\n",
       "      <td>0.0</td>\n",
       "      <td>0.0</td>\n",
       "      <td>1.0</td>\n",
       "      <td>0.0</td>\n",
       "      <td>3</td>\n",
       "      <td>9</td>\n",
       "      <td>local</td>\n",
       "    </tr>\n",
       "    <tr>\n",
       "      <th>4</th>\n",
       "      <td>PE</td>\n",
       "      <td>0.0</td>\n",
       "      <td>1.0</td>\n",
       "      <td>0.0</td>\n",
       "      <td>1.0</td>\n",
       "      <td>0.0</td>\n",
       "      <td>4</td>\n",
       "      <td>8</td>\n",
       "      <td>local</td>\n",
       "    </tr>\n",
       "  </tbody>\n",
       "</table>\n",
       "</div>"
      ],
      "text/plain": [
       "  prov_abbr  Bloc  Conservative  Green  Liberal  NDP  riding_number  \\\n",
       "0        NL   0.0           0.0    0.0      1.0  1.0              0   \n",
       "1        NL   0.0           0.0    0.0      2.0  0.0              1   \n",
       "2        NL   0.0           0.0    0.0      2.0  0.0              2   \n",
       "3        NL   0.0           0.0    0.0      1.0  0.0              3   \n",
       "4        PE   0.0           1.0    0.0      1.0  0.0              4   \n",
       "\n",
       "   region_number seat_type  \n",
       "0              9     local  \n",
       "1              9     local  \n",
       "2              9     local  \n",
       "3              9     local  \n",
       "4              8     local  "
      ]
     },
     "execution_count": 313,
     "metadata": {},
     "output_type": "execute_result"
    }
   ],
   "source": [
    "stv2.head()"
   ]
  },
  {
   "cell_type": "code",
   "execution_count": 314,
   "metadata": {
    "collapsed": false
   },
   "outputs": [],
   "source": [
    "stv_clean = pd.DataFrame(columns=['riding_number', 'prov_abbr', 'party', 'region_number', 'seat_type'])"
   ]
  },
  {
   "cell_type": "code",
   "execution_count": 315,
   "metadata": {
    "collapsed": true
   },
   "outputs": [],
   "source": [
    "i2 = 0\n",
    "for i1 in stv2.index:\n",
    "    for p in parties:\n",
    "        for _ in range(int(stv2[p][i1])):\n",
    "            if stv2[p][i1] == 0:\n",
    "                continue\n",
    "            stv_clean.set_value(i2, 'party', p)\n",
    "            for col in ['riding_number', 'prov_abbr', 'region_number', 'seat_type']:\n",
    "                stv_clean.set_value(i2, col, stv2[col][i1])\n",
    "            i2 += 1"
   ]
  },
  {
   "cell_type": "code",
   "execution_count": 316,
   "metadata": {
    "collapsed": false
   },
   "outputs": [
    {
     "data": {
      "text/html": [
       "<div>\n",
       "<table border=\"1\" class=\"dataframe\">\n",
       "  <thead>\n",
       "    <tr style=\"text-align: right;\">\n",
       "      <th></th>\n",
       "      <th>riding_number</th>\n",
       "      <th>prov_abbr</th>\n",
       "      <th>party</th>\n",
       "      <th>region_number</th>\n",
       "      <th>seat_type</th>\n",
       "    </tr>\n",
       "  </thead>\n",
       "  <tbody>\n",
       "    <tr>\n",
       "      <th>0</th>\n",
       "      <td>0</td>\n",
       "      <td>NL</td>\n",
       "      <td>Liberal</td>\n",
       "      <td>9</td>\n",
       "      <td>local</td>\n",
       "    </tr>\n",
       "    <tr>\n",
       "      <th>1</th>\n",
       "      <td>0</td>\n",
       "      <td>NL</td>\n",
       "      <td>NDP</td>\n",
       "      <td>9</td>\n",
       "      <td>local</td>\n",
       "    </tr>\n",
       "    <tr>\n",
       "      <th>2</th>\n",
       "      <td>1</td>\n",
       "      <td>NL</td>\n",
       "      <td>Liberal</td>\n",
       "      <td>9</td>\n",
       "      <td>local</td>\n",
       "    </tr>\n",
       "    <tr>\n",
       "      <th>3</th>\n",
       "      <td>1</td>\n",
       "      <td>NL</td>\n",
       "      <td>Liberal</td>\n",
       "      <td>9</td>\n",
       "      <td>local</td>\n",
       "    </tr>\n",
       "    <tr>\n",
       "      <th>4</th>\n",
       "      <td>2</td>\n",
       "      <td>NL</td>\n",
       "      <td>Liberal</td>\n",
       "      <td>9</td>\n",
       "      <td>local</td>\n",
       "    </tr>\n",
       "  </tbody>\n",
       "</table>\n",
       "</div>"
      ],
      "text/plain": [
       "  riding_number prov_abbr    party region_number seat_type\n",
       "0             0        NL  Liberal             9     local\n",
       "1             0        NL      NDP             9     local\n",
       "2             1        NL  Liberal             9     local\n",
       "3             1        NL  Liberal             9     local\n",
       "4             2        NL  Liberal             9     local"
      ]
     },
     "execution_count": 316,
     "metadata": {},
     "output_type": "execute_result"
    }
   ],
   "source": [
    "stv_clean.head()"
   ]
  },
  {
   "cell_type": "code",
   "execution_count": 317,
   "metadata": {
    "collapsed": true
   },
   "outputs": [],
   "source": [
    "stv_clean.to_csv('../web/data/stv_clean.csv', index=None)"
   ]
  },
  {
   "cell_type": "code",
   "execution_count": null,
   "metadata": {
    "collapsed": true
   },
   "outputs": [],
   "source": []
  },
  {
   "cell_type": "markdown",
   "metadata": {
    "collapsed": true
   },
   "source": [
    "## Combined Results for bar chart"
   ]
  },
  {
   "cell_type": "code",
   "execution_count": 228,
   "metadata": {
    "collapsed": false
   },
   "outputs": [],
   "source": [
    "pct_df_concat = pd.concat([pop2, pct_df_fptp, pct_df_mmp, pct_df_irv, pct_df_dmp, pct_df_stv])\n",
    "tot_df_concat = pd.concat([tot_df_fptp, tot_df_mmp, tot_df_irv, tot_df_dmp, tot_df_stv])\n",
    "\n",
    "pct_df_concat.index = range(len(pct_df_concat))\n",
    "tot_df_concat.index = range(len(tot_df_concat))"
   ]
  },
  {
   "cell_type": "code",
   "execution_count": 229,
   "metadata": {
    "collapsed": false
   },
   "outputs": [],
   "source": [
    "def expand_df(df_concat):\n",
    "    df_all = pd.DataFrame(columns=['party', 'region', 'voting_system', 'value'], index=range(len(df_concat)*5))\n",
    "    i2 = 0\n",
    "    for i1 in df_concat.index:\n",
    "        if df_concat['voting_system'][i1] == 'POP':\n",
    "            add_cols = parties + ['Other']\n",
    "        else:\n",
    "            add_cols = parties\n",
    "\n",
    "        for party in add_cols:\n",
    "            df_all.set_value(i2, 'party', party)\n",
    "            df_all.set_value(i2, 'region', df_concat['region'][i1])\n",
    "            df_all.set_value(i2, 'voting_system', df_concat['voting_system'][i1])\n",
    "            if df_concat['voting_system'][i1] == 'POP':\n",
    "                df_all.set_value(i2, 'value', df_concat[party][i1]*0.01)\n",
    "            else:\n",
    "                df_all.set_value(i2, 'value', df_concat[party][i1])\n",
    "            i2 += 1\n",
    "    return df_all"
   ]
  },
  {
   "cell_type": "code",
   "execution_count": 230,
   "metadata": {
    "collapsed": true
   },
   "outputs": [],
   "source": [
    "pct_df_all = expand_df(pct_df_concat)\n",
    "tot_df_all = expand_df(tot_df_concat)"
   ]
  },
  {
   "cell_type": "code",
   "execution_count": 231,
   "metadata": {
    "collapsed": false
   },
   "outputs": [],
   "source": [
    "pct_df_all.to_csv('../web/data/pct_summary.csv', index=None)\n",
    "tot_df_all.to_csv('../web/data/tot_summary.csv', index=None)"
   ]
  },
  {
   "cell_type": "code",
   "execution_count": 232,
   "metadata": {
    "collapsed": false
   },
   "outputs": [],
   "source": [
    "obj = {}\n",
    "for region in list(set(tot_df_all.region)):\n",
    "    obj[region] = {}\n",
    "    for system in list(set(tot_df_all.voting_system)):\n",
    "        obj[region][system] = {}\n",
    "        for party in list(set(tot_df_all.party)):\n",
    "            row = tot_df_all.query(\"region == @region and party == @party and voting_system == @system\")\n",
    "            obj[region][system][party] = list(row.value)[0]\n",
    "        obj[region][system]['Other'] = 0"
   ]
  },
  {
   "cell_type": "code",
   "execution_count": 233,
   "metadata": {
    "collapsed": true
   },
   "outputs": [],
   "source": [
    "json.dump(obj, open('../web/data/tot_summary.json', 'w'))"
   ]
  },
  {
   "cell_type": "code",
   "execution_count": null,
   "metadata": {
    "collapsed": true
   },
   "outputs": [],
   "source": []
  }
 ],
 "metadata": {
  "anaconda-cloud": {},
  "kernelspec": {
   "display_name": "Python [Root]",
   "language": "python",
   "name": "Python [Root]"
  },
  "language_info": {
   "codemirror_mode": {
    "name": "ipython",
    "version": 2
   },
   "file_extension": ".py",
   "mimetype": "text/x-python",
   "name": "python",
   "nbconvert_exporter": "python",
   "pygments_lexer": "ipython2",
   "version": "2.7.12"
  }
 },
 "nbformat": 4,
 "nbformat_minor": 0
}
