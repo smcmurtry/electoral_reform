{
 "cells": [
  {
   "cell_type": "code",
   "execution_count": 324,
   "metadata": {
    "collapsed": false
   },
   "outputs": [],
   "source": [
    "import pandas as pd\n",
    "import numpy as np"
   ]
  },
  {
   "cell_type": "markdown",
   "metadata": {},
   "source": [
    "## FPTP results"
   ]
  },
  {
   "cell_type": "code",
   "execution_count": 325,
   "metadata": {
    "collapsed": true
   },
   "outputs": [],
   "source": [
    "provs = ['BC', 'AB', 'SK', 'MB', 'ON', 'QC', 'NB', 'NS', 'PE', 'NL', 'YT', 'NT', 'NU']"
   ]
  },
  {
   "cell_type": "code",
   "execution_count": 327,
   "metadata": {
    "collapsed": false
   },
   "outputs": [],
   "source": [
    "\n",
    "df = pd.DataFrame.from_csv('../data/fptp/summary_results_table11.csv', index_col=None)"
   ]
  },
  {
   "cell_type": "code",
   "execution_count": 328,
   "metadata": {
    "collapsed": false
   },
   "outputs": [],
   "source": [
    "df['candidate_and_party'] = df['Elected Candidate/Candidat \\xc3\\xa9lu']\n",
    "df['riding_name'] = df['Electoral District Name/Nom de circonscription']\n",
    "df['riding_number'] = df['Electoral District Number/Num\\xc3\\xa9ro de circonscription']\n",
    "df['prov'] = df[df.columns[0]]"
   ]
  },
  {
   "cell_type": "code",
   "execution_count": 330,
   "metadata": {
    "collapsed": false
   },
   "outputs": [],
   "source": [
    "df = df[['prov', 'candidate_and_party', 'riding_name', 'riding_number']].copy()"
   ]
  },
  {
   "cell_type": "code",
   "execution_count": 331,
   "metadata": {
    "collapsed": true
   },
   "outputs": [],
   "source": [
    "parties = {'Liberal/Lib\\xc3\\xa9ral': 'Liberal',\n",
    "           'Conservative/Conservateur': 'Conservative',\n",
    "           'NDP-New Democratic Party/NPD-Nouveau Parti d\\xc3\\xa9mocratique': 'NDP',\n",
    "           'Bloc Qu\\xc3\\xa9b\\xc3\\xa9cois/Bloc Qu\\xc3\\xa9b\\xc3\\xa9cois': 'Bloc',\n",
    "           'Green Party/Parti Vert': 'Green'}"
   ]
  },
  {
   "cell_type": "code",
   "execution_count": 332,
   "metadata": {
    "collapsed": false
   },
   "outputs": [],
   "source": [
    "df['party'] = pd.Series(index=df.index, dtype=str)"
   ]
  },
  {
   "cell_type": "code",
   "execution_count": 333,
   "metadata": {
    "collapsed": false
   },
   "outputs": [],
   "source": [
    "for i in df.index:\n",
    "    for k in parties:\n",
    "        if k in df['candidate_and_party'][i]:\n",
    "            df.set_value(i, 'party', parties[k])\n",
    "            "
   ]
  },
  {
   "cell_type": "code",
   "execution_count": 334,
   "metadata": {
    "collapsed": false
   },
   "outputs": [
    {
     "data": {
      "text/html": [
       "<div>\n",
       "<table border=\"1\" class=\"dataframe\">\n",
       "  <thead>\n",
       "    <tr style=\"text-align: right;\">\n",
       "      <th></th>\n",
       "      <th>prov</th>\n",
       "      <th>candidate_and_party</th>\n",
       "      <th>riding_name</th>\n",
       "      <th>riding_number</th>\n",
       "      <th>party</th>\n",
       "    </tr>\n",
       "  </thead>\n",
       "  <tbody>\n",
       "  </tbody>\n",
       "</table>\n",
       "</div>"
      ],
      "text/plain": [
       "Empty DataFrame\n",
       "Columns: [prov, candidate_and_party, riding_name, riding_number, party]\n",
       "Index: []"
      ]
     },
     "execution_count": 334,
     "metadata": {},
     "output_type": "execute_result"
    }
   ],
   "source": [
    "df[df.party != df.party]"
   ]
  },
  {
   "cell_type": "code",
   "execution_count": 335,
   "metadata": {
    "collapsed": false
   },
   "outputs": [],
   "source": [
    "del df['candidate_and_party']"
   ]
  },
  {
   "cell_type": "code",
   "execution_count": 336,
   "metadata": {
    "collapsed": true
   },
   "outputs": [],
   "source": [
    "prov_dict = {'Newfoundland and Labrador/Terre-Neuve-et-Labrador': 'NL',\n",
    "             'Prince Edward Island/Île-du-Prince-Édouard': 'PE',\n",
    "             'Nova Scotia/Nouvelle-Écosse': 'NS',\n",
    "             'New Brunswick/Nouveau-Brunswick': 'NB',\n",
    "             'British Columbia/Colombie-Britannique': 'BC',\n",
    "             'Yukon': 'YT',\n",
    "             'Northwest Territories/Territoires du Nord-Ouest': 'NT',\n",
    "             'Nunavut': 'NU',\n",
    "             'Alberta': 'AB',\n",
    "             'Manitoba': 'MB',\n",
    "             'Ontario': 'ON',\n",
    "             'Quebec/Qu\\xc3\\xa9bec': 'QC',\n",
    "             'Saskatchewan': 'SK'\n",
    "            }"
   ]
  },
  {
   "cell_type": "code",
   "execution_count": 337,
   "metadata": {
    "collapsed": false
   },
   "outputs": [],
   "source": [
    "df['prov_abbr'] = df['prov'].map(prov_dict)"
   ]
  },
  {
   "cell_type": "code",
   "execution_count": 338,
   "metadata": {
    "collapsed": false
   },
   "outputs": [
    {
     "data": {
      "text/html": [
       "<div>\n",
       "<table border=\"1\" class=\"dataframe\">\n",
       "  <thead>\n",
       "    <tr style=\"text-align: right;\">\n",
       "      <th></th>\n",
       "      <th>prov</th>\n",
       "      <th>riding_name</th>\n",
       "      <th>riding_number</th>\n",
       "      <th>party</th>\n",
       "      <th>prov_abbr</th>\n",
       "    </tr>\n",
       "  </thead>\n",
       "  <tbody>\n",
       "  </tbody>\n",
       "</table>\n",
       "</div>"
      ],
      "text/plain": [
       "Empty DataFrame\n",
       "Columns: [prov, riding_name, riding_number, party, prov_abbr]\n",
       "Index: []"
      ]
     },
     "execution_count": 338,
     "metadata": {},
     "output_type": "execute_result"
    }
   ],
   "source": [
    "df[df.prov_abbr != df.prov_abbr]"
   ]
  },
  {
   "cell_type": "code",
   "execution_count": 339,
   "metadata": {
    "collapsed": true
   },
   "outputs": [],
   "source": [
    "del df['prov']"
   ]
  },
  {
   "cell_type": "code",
   "execution_count": 343,
   "metadata": {
    "collapsed": false
   },
   "outputs": [],
   "source": [
    "df['region_number'] = df['prov_abbr'].map(lambda x: provs.index(x))"
   ]
  },
  {
   "cell_type": "code",
   "execution_count": 374,
   "metadata": {
    "collapsed": true
   },
   "outputs": [],
   "source": [
    "df['seat_type'] = ['local']*len(df)"
   ]
  },
  {
   "cell_type": "code",
   "execution_count": 375,
   "metadata": {
    "collapsed": false
   },
   "outputs": [],
   "source": [
    "df.to_csv('../web/data/fptp_clean.csv', index=None)"
   ]
  },
  {
   "cell_type": "markdown",
   "metadata": {},
   "source": [
    "## DMP Simulation Results"
   ]
  },
  {
   "cell_type": "code",
   "execution_count": 346,
   "metadata": {
    "collapsed": false
   },
   "outputs": [],
   "source": [
    "dmp = pd.DataFrame.from_csv('../data/dmp/dmp_2_5_0_reformatted.csv', index_col=None)"
   ]
  },
  {
   "cell_type": "code",
   "execution_count": 347,
   "metadata": {
    "collapsed": true
   },
   "outputs": [],
   "source": [
    "prov_dict_2 = {'Newfoundland': 'NL',\n",
    "             'Prince Edward Island': 'PE',\n",
    "             'Nova Scotia': 'NS',\n",
    "             'New Brunswick': 'NB',\n",
    "             'British Columbia': 'BC',\n",
    "             'Yukon': 'YT',\n",
    "             'Northwest Territories': 'NT',\n",
    "             'Nunavut': 'NU',\n",
    "             'Alberta': 'AB',\n",
    "             'Manitoba': 'MB',\n",
    "             'Ontario': 'ON',\n",
    "             'Quebec': 'QC',\n",
    "             'Saskatchewan': 'SK'\n",
    "            }"
   ]
  },
  {
   "cell_type": "code",
   "execution_count": 348,
   "metadata": {
    "collapsed": false
   },
   "outputs": [],
   "source": [
    "dmp['prov_abbr'] = dmp['prov'].map(prov_dict_2)"
   ]
  },
  {
   "cell_type": "code",
   "execution_count": 349,
   "metadata": {
    "collapsed": false
   },
   "outputs": [],
   "source": [
    "del dmp['prov']"
   ]
  },
  {
   "cell_type": "code",
   "execution_count": 350,
   "metadata": {
    "collapsed": true
   },
   "outputs": [],
   "source": [
    "dmp['riding_number'] = range(len(dmp))\n"
   ]
  },
  {
   "cell_type": "code",
   "execution_count": 351,
   "metadata": {
    "collapsed": false
   },
   "outputs": [],
   "source": [
    "# I need 1 row per seat\n",
    "dmp_1 = dmp[['riding_name', 'riding_number', 'party_1', 'prov_abbr']].copy()\n",
    "dmp_2 = dmp[['riding_name', 'riding_number', 'party_2', 'prov_abbr']].copy()\n",
    "dmp_1['party'] = dmp_1['party_1']\n",
    "dmp_2['party'] = dmp_2['party_2']\n",
    "del dmp_1['party_1']\n",
    "del dmp_2['party_2']"
   ]
  },
  {
   "cell_type": "code",
   "execution_count": 352,
   "metadata": {
    "collapsed": false
   },
   "outputs": [],
   "source": [
    "dmp_2.index = range(len(dmp_1), len(dmp_1) + len(dmp_2))"
   ]
  },
  {
   "cell_type": "code",
   "execution_count": 353,
   "metadata": {
    "collapsed": false
   },
   "outputs": [],
   "source": [
    "dmp_3 = pd.concat([dmp_1, dmp_2])"
   ]
  },
  {
   "cell_type": "code",
   "execution_count": 354,
   "metadata": {
    "collapsed": false
   },
   "outputs": [
    {
     "data": {
      "text/html": [
       "<div>\n",
       "<table border=\"1\" class=\"dataframe\">\n",
       "  <thead>\n",
       "    <tr style=\"text-align: right;\">\n",
       "      <th></th>\n",
       "      <th>riding_name</th>\n",
       "      <th>riding_number</th>\n",
       "      <th>prov_abbr</th>\n",
       "      <th>party</th>\n",
       "    </tr>\n",
       "  </thead>\n",
       "  <tbody>\n",
       "    <tr>\n",
       "      <th>0</th>\n",
       "      <td>Surrey</td>\n",
       "      <td>0</td>\n",
       "      <td>BC</td>\n",
       "      <td>Liberal</td>\n",
       "    </tr>\n",
       "    <tr>\n",
       "      <th>1</th>\n",
       "      <td>Vancouver Island South</td>\n",
       "      <td>1</td>\n",
       "      <td>BC</td>\n",
       "      <td>NDP</td>\n",
       "    </tr>\n",
       "    <tr>\n",
       "      <th>2</th>\n",
       "      <td>Fraser Canyon</td>\n",
       "      <td>2</td>\n",
       "      <td>BC</td>\n",
       "      <td>Liberal</td>\n",
       "    </tr>\n",
       "    <tr>\n",
       "      <th>3</th>\n",
       "      <td>Abbotsford Area</td>\n",
       "      <td>3</td>\n",
       "      <td>BC</td>\n",
       "      <td>Conservative</td>\n",
       "    </tr>\n",
       "    <tr>\n",
       "      <th>4</th>\n",
       "      <td>Boundary Bay</td>\n",
       "      <td>4</td>\n",
       "      <td>BC</td>\n",
       "      <td>Liberal</td>\n",
       "    </tr>\n",
       "  </tbody>\n",
       "</table>\n",
       "</div>"
      ],
      "text/plain": [
       "              riding_name  riding_number prov_abbr         party\n",
       "0                  Surrey              0        BC       Liberal\n",
       "1  Vancouver Island South              1        BC           NDP\n",
       "2           Fraser Canyon              2        BC       Liberal\n",
       "3         Abbotsford Area              3        BC  Conservative\n",
       "4            Boundary Bay              4        BC       Liberal"
      ]
     },
     "execution_count": 354,
     "metadata": {},
     "output_type": "execute_result"
    }
   ],
   "source": [
    "dmp_3.head()"
   ]
  },
  {
   "cell_type": "code",
   "execution_count": 355,
   "metadata": {
    "collapsed": false
   },
   "outputs": [],
   "source": [
    "for i in dmp_3.index:\n",
    "    if dmp_3['party'][i] == 'Bloc Quebecois':\n",
    "        dmp_3.set_value(i, 'party', 'Bloc')"
   ]
  },
  {
   "cell_type": "code",
   "execution_count": 357,
   "metadata": {
    "collapsed": false
   },
   "outputs": [],
   "source": [
    "dmp_3['region_number'] = dmp_3['prov_abbr'].map(lambda x: provs.index(x))"
   ]
  },
  {
   "cell_type": "code",
   "execution_count": 372,
   "metadata": {
    "collapsed": true
   },
   "outputs": [],
   "source": [
    "dmp_3['seat_type'] = ['local']*len(dmp_3)"
   ]
  },
  {
   "cell_type": "code",
   "execution_count": 373,
   "metadata": {
    "collapsed": false
   },
   "outputs": [],
   "source": [
    "dmp_3.to_csv('../web/data/dmp_clean.csv', index=None)"
   ]
  },
  {
   "cell_type": "markdown",
   "metadata": {
    "collapsed": true
   },
   "source": [
    "## MMP Simulation Results"
   ]
  },
  {
   "cell_type": "markdown",
   "metadata": {},
   "source": [
    "Wilf Day's blog: http://wilfday.blogspot.ca/\n",
    "\n",
    "My simulation using this model lets voters elect 209 local MP in the ten provinces, and 126 regional MPs in 42 regions.\n",
    "\n",
    "In Atlantic Canada each province is one region. The other regions are:\n",
    "\n",
    "Ontario:\n",
    "Ottawa—Cornwall 10, East Central Ontario (Kingston—Peterborough) 9, Durham—Rouge Park 6, York Region 10, Scarborough—Don Valley 8, Toronto Central 8, North York—Etobicoke 8, Brampton—Mississauga North 7, Mississauga—Halton 8, Hamilton—Niagara—Brant 11, Central Ontario (Barrie—Owen Sound) 6, Waterloo-Wellington-Dufferin 8, London-Oxford-Perth-Huron 7, Windsor—Sarnia 6, Northern Ontario 9.\n",
    "\n",
    "Quebec:\n",
    "Montreal-est 8, Montreal-ouest 6, Montreal-nord—Laval 8, Laurentides—Lanaudière 9, Outaouais—Abitibi-Témiscamingue—Nord 6, Longueuil—Suroît 10, Montérégie-est—Estrie 6, Mauricie—Centre-du-Québec 6, Quebec City—Saguenay-Lac-Saint-Jean—Côte-Nord 11, Chaudière-Appalaches—Bas-Saint-Laurent—Gaspésie 8.\n",
    "\n",
    "Manitoba:\n",
    "Winnipeg 8, Manitoba North and South 6\n",
    "\n",
    "Saskatchewan:\n",
    "Regina—South Saskatchewan 6, Saskatoon—North Saskatchewan 8\n",
    "\n",
    "Alberta:\n",
    "Calgary 10, South & Central Alberta 8, Edmonton 10, Northern Alberta 6\n",
    "\n",
    "British Columbia:\n",
    "Vancouver-Richmond-Delta 9, Burnaby—North Shore—Coquitlam—Maple Ridge 8, Surrey—Fraser Valley 9, BC Interior and North 9, Vancouver Island 7\n",
    "\n",
    "Voters for all three parties would elect either local or regional MPs in each of the 42 regions across Canada, except no Conservative in 8-MP Montreal-est and in 6-MP Outaouais—Abitibi-Témiscamingue—Nord.  Bloc voters would elect MPs in each of Quebec’s regions except 6-MP Montreal West. \n",
    "\n",
    "The results for 338 MPs are: 145 Liberals, 106 Conservatives, 70 NDP, 14 Bloc, and 3 Greens.\n",
    "\n",
    "\n",
    "\n",
    "Lib, Con, NDP, Green, Bloc\n",
    "B.C.                15, 13, 11, 3\n",
    "Alberta           8, 21, 4, 1       \n",
    "Sask.              3, 7, 4\n",
    "Manitoba       6, 5, 2, 1\n",
    "Ontario           55, 43, 20, 3\n",
    "Quebec          28, 13, 20, 2, 15\n",
    "N.B.                5, 3, 2\n",
    "P.E.I.               2, 1, 1\n",
    "N.S.                7, 2, 2\n",
    "Nfld & Lab.    5, 1, 1\n",
    "Territories      3, 0, 0\n",
    "Total               137, 109, 67, 10, 15"
   ]
  },
  {
   "cell_type": "code",
   "execution_count": 402,
   "metadata": {
    "collapsed": true
   },
   "outputs": [],
   "source": [
    "mmp = pd.DataFrame.from_csv('../data/mmp/mmp_14_reformatted.csv', index_col=None)"
   ]
  },
  {
   "cell_type": "code",
   "execution_count": 404,
   "metadata": {
    "collapsed": false
   },
   "outputs": [],
   "source": [
    "mmp = mmp.replace(to_replace=' ', value=np.nan)"
   ]
  },
  {
   "cell_type": "code",
   "execution_count": 405,
   "metadata": {
    "collapsed": false,
    "scrolled": true
   },
   "outputs": [
    {
     "data": {
      "text/html": [
       "<div>\n",
       "<table border=\"1\" class=\"dataframe\">\n",
       "  <thead>\n",
       "    <tr style=\"text-align: right;\">\n",
       "      <th></th>\n",
       "      <th>Electoral District</th>\n",
       "      <th>prov_abbr</th>\n",
       "      <th>n_local</th>\n",
       "      <th>n_region</th>\n",
       "      <th>BQ</th>\n",
       "      <th>C</th>\n",
       "      <th>Gr</th>\n",
       "      <th>L</th>\n",
       "      <th>ND</th>\n",
       "      <th>In</th>\n",
       "      <th>BQ.1</th>\n",
       "      <th>C.1</th>\n",
       "      <th>Gr.1</th>\n",
       "      <th>L.1</th>\n",
       "      <th>NDP</th>\n",
       "    </tr>\n",
       "  </thead>\n",
       "  <tbody>\n",
       "    <tr>\n",
       "      <th>0</th>\n",
       "      <td>Vancouver Island 7 (4+3)</td>\n",
       "      <td>BC</td>\n",
       "      <td>4</td>\n",
       "      <td>3</td>\n",
       "      <td>NaN</td>\n",
       "      <td>NaN</td>\n",
       "      <td>1.0</td>\n",
       "      <td>NaN</td>\n",
       "      <td>3.0</td>\n",
       "      <td>NaN</td>\n",
       "      <td>NaN</td>\n",
       "      <td>1.0</td>\n",
       "      <td>1.0</td>\n",
       "      <td>1.0</td>\n",
       "      <td>NaN</td>\n",
       "    </tr>\n",
       "    <tr>\n",
       "      <th>1</th>\n",
       "      <td>BC Interior and North 9 (6+3)</td>\n",
       "      <td>BC</td>\n",
       "      <td>6</td>\n",
       "      <td>3</td>\n",
       "      <td>NaN</td>\n",
       "      <td>3.0</td>\n",
       "      <td>NaN</td>\n",
       "      <td>1.0</td>\n",
       "      <td>2.0</td>\n",
       "      <td>NaN</td>\n",
       "      <td>NaN</td>\n",
       "      <td>NaN</td>\n",
       "      <td>NaN</td>\n",
       "      <td>2.0</td>\n",
       "      <td>1.0</td>\n",
       "    </tr>\n",
       "    <tr>\n",
       "      <th>2</th>\n",
       "      <td>Surrey—Richmond—Abbotsford—Langley 12 (7+5)</td>\n",
       "      <td>BC</td>\n",
       "      <td>7</td>\n",
       "      <td>5</td>\n",
       "      <td>NaN</td>\n",
       "      <td>3.0</td>\n",
       "      <td>NaN</td>\n",
       "      <td>4.0</td>\n",
       "      <td>0.0</td>\n",
       "      <td>NaN</td>\n",
       "      <td>NaN</td>\n",
       "      <td>1.0</td>\n",
       "      <td>1.0</td>\n",
       "      <td>1.0</td>\n",
       "      <td>2.0</td>\n",
       "    </tr>\n",
       "    <tr>\n",
       "      <th>3</th>\n",
       "      <td>Vancouver—Burnaby—North Shore—Maple Ridge 14 (...</td>\n",
       "      <td>BC</td>\n",
       "      <td>9</td>\n",
       "      <td>5</td>\n",
       "      <td>NaN</td>\n",
       "      <td>NaN</td>\n",
       "      <td>NaN</td>\n",
       "      <td>6.0</td>\n",
       "      <td>3.0</td>\n",
       "      <td>NaN</td>\n",
       "      <td>NaN</td>\n",
       "      <td>3.0</td>\n",
       "      <td>1.0</td>\n",
       "      <td>NaN</td>\n",
       "      <td>1.0</td>\n",
       "    </tr>\n",
       "    <tr>\n",
       "      <th>4</th>\n",
       "      <td>Edmonton and North Alberta 16 (10+6)</td>\n",
       "      <td>AB</td>\n",
       "      <td>10</td>\n",
       "      <td>6</td>\n",
       "      <td>NaN</td>\n",
       "      <td>8.0</td>\n",
       "      <td>NaN</td>\n",
       "      <td>1.0</td>\n",
       "      <td>1.0</td>\n",
       "      <td>NaN</td>\n",
       "      <td>NaN</td>\n",
       "      <td>1.0</td>\n",
       "      <td>NaN</td>\n",
       "      <td>3.0</td>\n",
       "      <td>2.0</td>\n",
       "    </tr>\n",
       "  </tbody>\n",
       "</table>\n",
       "</div>"
      ],
      "text/plain": [
       "                                  Electoral District prov_abbr  n_local  \\\n",
       "0                           Vancouver Island 7 (4+3)        BC        4   \n",
       "1                      BC Interior and North 9 (6+3)        BC        6   \n",
       "2        Surrey—Richmond—Abbotsford—Langley 12 (7+5)        BC        7   \n",
       "3  Vancouver—Burnaby—North Shore—Maple Ridge 14 (...        BC        9   \n",
       "4               Edmonton and North Alberta 16 (10+6)        AB       10   \n",
       "\n",
       "   n_region   BQ    C   Gr    L   ND   In  BQ.1  C.1  Gr.1  L.1  NDP  \n",
       "0         3  NaN  NaN  1.0  NaN  3.0  NaN   NaN  1.0   1.0  1.0  NaN  \n",
       "1         3  NaN  3.0  NaN  1.0  2.0  NaN   NaN  NaN   NaN  2.0  1.0  \n",
       "2         5  NaN  3.0  NaN  4.0  0.0  NaN   NaN  1.0   1.0  1.0  2.0  \n",
       "3         5  NaN  NaN  NaN  6.0  3.0  NaN   NaN  3.0   1.0  NaN  1.0  \n",
       "4         6  NaN  8.0  NaN  1.0  1.0  NaN   NaN  1.0   NaN  3.0  2.0  "
      ]
     },
     "execution_count": 405,
     "metadata": {},
     "output_type": "execute_result"
    }
   ],
   "source": [
    "mmp.head()"
   ]
  },
  {
   "cell_type": "code",
   "execution_count": 406,
   "metadata": {
    "collapsed": true
   },
   "outputs": [],
   "source": [
    "mmp['region_number'] = range(len(mmp))"
   ]
  },
  {
   "cell_type": "code",
   "execution_count": 407,
   "metadata": {
    "collapsed": false
   },
   "outputs": [],
   "source": [
    "mmp_local = mmp[list(mmp.columns[4:9]) + ['region_number', 'prov_abbr']].copy()\n",
    "mmp_regional = mmp[list(mmp.columns[10:]) + ['prov_abbr']].copy()"
   ]
  },
  {
   "cell_type": "code",
   "execution_count": 408,
   "metadata": {
    "collapsed": true
   },
   "outputs": [],
   "source": [
    "parties = ['Bloc', 'Conservative', 'Green', 'Liberal', 'NDP']"
   ]
  },
  {
   "cell_type": "code",
   "execution_count": 409,
   "metadata": {
    "collapsed": false
   },
   "outputs": [],
   "source": [
    "mmp_regional.columns = parties + ['region_number', 'prov_abbr']\n",
    "mmp_local.columns = parties + ['region_number', 'prov_abbr']"
   ]
  },
  {
   "cell_type": "code",
   "execution_count": 410,
   "metadata": {
    "collapsed": false
   },
   "outputs": [],
   "source": [
    "mmp_local['seat_type'] = ['local']*len(mmp_local)\n",
    "mmp_regional['seat_type'] = ['regional']*len(mmp_regional)"
   ]
  },
  {
   "cell_type": "code",
   "execution_count": 411,
   "metadata": {
    "collapsed": false
   },
   "outputs": [],
   "source": [
    "mmp_regional.index = range(len(mmp_local), len(mmp_local)+len(mmp_regional))\n",
    "mmp2 = pd.concat([mmp_local, mmp_regional])"
   ]
  },
  {
   "cell_type": "code",
   "execution_count": 412,
   "metadata": {
    "collapsed": false
   },
   "outputs": [],
   "source": [
    "mmp3 = pd.DataFrame(columns=['region_number', 'prov_abbr', 'seat_type', 'party', 'riding_number'], index=range(338))\n",
    "i2 = 0\n",
    "n = 0\n",
    "for i1 in mmp2.index:\n",
    "    for party in parties:\n",
    "        if mmp2[party][i1] > 0:\n",
    "            for _ in range(int(mmp2[party][i1])):\n",
    "                for col in ['region_number', 'prov_abbr', 'seat_type']:\n",
    "                    mmp3.set_value(i2, col, mmp2[col][i1])\n",
    "                if mmp2['seat_type'][i1] == 'local':\n",
    "                    mmp3.set_value(i2, 'riding_number', n)\n",
    "                    n += 1\n",
    "                mmp3.set_value(i2, 'party', party)\n",
    "                i2 += 1"
   ]
  },
  {
   "cell_type": "code",
   "execution_count": 413,
   "metadata": {
    "collapsed": false,
    "scrolled": true
   },
   "outputs": [
    {
     "data": {
      "text/html": [
       "<div>\n",
       "<table border=\"1\" class=\"dataframe\">\n",
       "  <thead>\n",
       "    <tr style=\"text-align: right;\">\n",
       "      <th></th>\n",
       "      <th>region_number</th>\n",
       "      <th>prov_abbr</th>\n",
       "      <th>seat_type</th>\n",
       "      <th>party</th>\n",
       "      <th>riding_number</th>\n",
       "    </tr>\n",
       "  </thead>\n",
       "  <tbody>\n",
       "    <tr>\n",
       "      <th>0</th>\n",
       "      <td>0</td>\n",
       "      <td>BC</td>\n",
       "      <td>local</td>\n",
       "      <td>Green</td>\n",
       "      <td>0</td>\n",
       "    </tr>\n",
       "    <tr>\n",
       "      <th>1</th>\n",
       "      <td>0</td>\n",
       "      <td>BC</td>\n",
       "      <td>local</td>\n",
       "      <td>NDP</td>\n",
       "      <td>1</td>\n",
       "    </tr>\n",
       "    <tr>\n",
       "      <th>2</th>\n",
       "      <td>0</td>\n",
       "      <td>BC</td>\n",
       "      <td>local</td>\n",
       "      <td>NDP</td>\n",
       "      <td>2</td>\n",
       "    </tr>\n",
       "    <tr>\n",
       "      <th>3</th>\n",
       "      <td>0</td>\n",
       "      <td>BC</td>\n",
       "      <td>local</td>\n",
       "      <td>NDP</td>\n",
       "      <td>3</td>\n",
       "    </tr>\n",
       "    <tr>\n",
       "      <th>4</th>\n",
       "      <td>1</td>\n",
       "      <td>BC</td>\n",
       "      <td>local</td>\n",
       "      <td>Conservative</td>\n",
       "      <td>4</td>\n",
       "    </tr>\n",
       "  </tbody>\n",
       "</table>\n",
       "</div>"
      ],
      "text/plain": [
       "  region_number prov_abbr seat_type         party riding_number\n",
       "0             0        BC     local         Green             0\n",
       "1             0        BC     local           NDP             1\n",
       "2             0        BC     local           NDP             2\n",
       "3             0        BC     local           NDP             3\n",
       "4             1        BC     local  Conservative             4"
      ]
     },
     "execution_count": 413,
     "metadata": {},
     "output_type": "execute_result"
    }
   ],
   "source": [
    "mmp3.head()"
   ]
  },
  {
   "cell_type": "code",
   "execution_count": 414,
   "metadata": {
    "collapsed": true
   },
   "outputs": [],
   "source": [
    "mmp3.to_csv('../web/data/mmp_clean.csv', index=None)"
   ]
  },
  {
   "cell_type": "markdown",
   "metadata": {
    "collapsed": true
   },
   "source": [
    "## Instant Runoff Voting (IRV/AV)"
   ]
  },
  {
   "cell_type": "code",
   "execution_count": 362,
   "metadata": {
    "collapsed": true
   },
   "outputs": [],
   "source": [
    "irv = pd.DataFrame.from_csv('../data/irv/irv_prov_grenier.csv', index_col=None)"
   ]
  },
  {
   "cell_type": "code",
   "execution_count": 363,
   "metadata": {
    "collapsed": false
   },
   "outputs": [
    {
     "data": {
      "text/html": [
       "<div>\n",
       "<table border=\"1\" class=\"dataframe\">\n",
       "  <thead>\n",
       "    <tr style=\"text-align: right;\">\n",
       "      <th></th>\n",
       "      <th>prov_abbr</th>\n",
       "      <th>Liberal</th>\n",
       "      <th>Conservative</th>\n",
       "      <th>NDP</th>\n",
       "      <th>Green</th>\n",
       "      <th>Bloc</th>\n",
       "    </tr>\n",
       "  </thead>\n",
       "  <tbody>\n",
       "    <tr>\n",
       "      <th>0</th>\n",
       "      <td>BC</td>\n",
       "      <td>26</td>\n",
       "      <td>2</td>\n",
       "      <td>13</td>\n",
       "      <td>1</td>\n",
       "      <td>0</td>\n",
       "    </tr>\n",
       "    <tr>\n",
       "      <th>1</th>\n",
       "      <td>AB</td>\n",
       "      <td>6</td>\n",
       "      <td>26</td>\n",
       "      <td>2</td>\n",
       "      <td>0</td>\n",
       "      <td>0</td>\n",
       "    </tr>\n",
       "    <tr>\n",
       "      <th>2</th>\n",
       "      <td>SK</td>\n",
       "      <td>2</td>\n",
       "      <td>8</td>\n",
       "      <td>4</td>\n",
       "      <td>0</td>\n",
       "      <td>0</td>\n",
       "    </tr>\n",
       "    <tr>\n",
       "      <th>3</th>\n",
       "      <td>MB</td>\n",
       "      <td>8</td>\n",
       "      <td>4</td>\n",
       "      <td>2</td>\n",
       "      <td>0</td>\n",
       "      <td>0</td>\n",
       "    </tr>\n",
       "    <tr>\n",
       "      <th>4</th>\n",
       "      <td>ON</td>\n",
       "      <td>96</td>\n",
       "      <td>16</td>\n",
       "      <td>9</td>\n",
       "      <td>0</td>\n",
       "      <td>0</td>\n",
       "    </tr>\n",
       "    <tr>\n",
       "      <th>5</th>\n",
       "      <td>QC</td>\n",
       "      <td>51</td>\n",
       "      <td>5</td>\n",
       "      <td>20</td>\n",
       "      <td>0</td>\n",
       "      <td>2</td>\n",
       "    </tr>\n",
       "    <tr>\n",
       "      <th>6</th>\n",
       "      <td>NB</td>\n",
       "      <td>10</td>\n",
       "      <td>0</td>\n",
       "      <td>0</td>\n",
       "      <td>0</td>\n",
       "      <td>0</td>\n",
       "    </tr>\n",
       "    <tr>\n",
       "      <th>7</th>\n",
       "      <td>NS</td>\n",
       "      <td>11</td>\n",
       "      <td>0</td>\n",
       "      <td>0</td>\n",
       "      <td>0</td>\n",
       "      <td>0</td>\n",
       "    </tr>\n",
       "    <tr>\n",
       "      <th>8</th>\n",
       "      <td>PE</td>\n",
       "      <td>4</td>\n",
       "      <td>0</td>\n",
       "      <td>0</td>\n",
       "      <td>0</td>\n",
       "      <td>0</td>\n",
       "    </tr>\n",
       "    <tr>\n",
       "      <th>9</th>\n",
       "      <td>NL</td>\n",
       "      <td>7</td>\n",
       "      <td>0</td>\n",
       "      <td>0</td>\n",
       "      <td>0</td>\n",
       "      <td>0</td>\n",
       "    </tr>\n",
       "    <tr>\n",
       "      <th>10</th>\n",
       "      <td>NT</td>\n",
       "      <td>1</td>\n",
       "      <td>0</td>\n",
       "      <td>0</td>\n",
       "      <td>0</td>\n",
       "      <td>0</td>\n",
       "    </tr>\n",
       "    <tr>\n",
       "      <th>11</th>\n",
       "      <td>NU</td>\n",
       "      <td>1</td>\n",
       "      <td>0</td>\n",
       "      <td>0</td>\n",
       "      <td>0</td>\n",
       "      <td>0</td>\n",
       "    </tr>\n",
       "    <tr>\n",
       "      <th>12</th>\n",
       "      <td>YT</td>\n",
       "      <td>1</td>\n",
       "      <td>0</td>\n",
       "      <td>0</td>\n",
       "      <td>0</td>\n",
       "      <td>0</td>\n",
       "    </tr>\n",
       "  </tbody>\n",
       "</table>\n",
       "</div>"
      ],
      "text/plain": [
       "   prov_abbr  Liberal  Conservative  NDP  Green  Bloc\n",
       "0         BC       26             2   13      1     0\n",
       "1         AB        6            26    2      0     0\n",
       "2         SK        2             8    4      0     0\n",
       "3         MB        8             4    2      0     0\n",
       "4         ON       96            16    9      0     0\n",
       "5         QC       51             5   20      0     2\n",
       "6         NB       10             0    0      0     0\n",
       "7         NS       11             0    0      0     0\n",
       "8         PE        4             0    0      0     0\n",
       "9         NL        7             0    0      0     0\n",
       "10        NT        1             0    0      0     0\n",
       "11        NU        1             0    0      0     0\n",
       "12        YT        1             0    0      0     0"
      ]
     },
     "execution_count": 363,
     "metadata": {},
     "output_type": "execute_result"
    }
   ],
   "source": [
    "irv"
   ]
  },
  {
   "cell_type": "code",
   "execution_count": 365,
   "metadata": {
    "collapsed": false
   },
   "outputs": [],
   "source": [
    "parties = ['Bloc', 'Conservative', 'Green', 'Liberal', 'NDP']\n",
    "irv2 = pd.DataFrame(columns=['prov_abbr', 'party'], index=range(338))\n",
    "i2 = 0\n",
    "for i1 in irv.index:\n",
    "    for party in parties:\n",
    "        if irv[party][i1] > 0:\n",
    "            for _ in range(int(irv[party][i1])):\n",
    "                irv2.set_value(i2, 'prov_abbr', irv['prov_abbr'][i1])\n",
    "                irv2.set_value(i2, 'party', party)\n",
    "                i2 += 1"
   ]
  },
  {
   "cell_type": "code",
   "execution_count": 366,
   "metadata": {
    "collapsed": false
   },
   "outputs": [],
   "source": [
    "irv2['riding_number'] = irv2.index"
   ]
  },
  {
   "cell_type": "code",
   "execution_count": 368,
   "metadata": {
    "collapsed": true
   },
   "outputs": [],
   "source": [
    "irv2['region_number'] = irv2['prov_abbr'].map(lambda x: provs.index(x))"
   ]
  },
  {
   "cell_type": "code",
   "execution_count": 370,
   "metadata": {
    "collapsed": true
   },
   "outputs": [],
   "source": [
    "irv2['seat_type'] = ['local']*len(irv2)"
   ]
  },
  {
   "cell_type": "code",
   "execution_count": 371,
   "metadata": {
    "collapsed": false
   },
   "outputs": [],
   "source": [
    "irv2.to_csv('../web/data/irv_clean.csv', index=None)"
   ]
  },
  {
   "cell_type": "code",
   "execution_count": null,
   "metadata": {
    "collapsed": true
   },
   "outputs": [],
   "source": []
  }
 ],
 "metadata": {
  "kernelspec": {
   "display_name": "Python 2",
   "language": "python",
   "name": "python2"
  },
  "language_info": {
   "codemirror_mode": {
    "name": "ipython",
    "version": 2
   },
   "file_extension": ".py",
   "mimetype": "text/x-python",
   "name": "python",
   "nbconvert_exporter": "python",
   "pygments_lexer": "ipython2",
   "version": "2.7.11"
  }
 },
 "nbformat": 4,
 "nbformat_minor": 0
}
